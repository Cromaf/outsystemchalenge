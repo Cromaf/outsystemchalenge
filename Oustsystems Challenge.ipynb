{
 "cells": [
  {
   "cell_type": "code",
   "execution_count": 1,
   "metadata": {},
   "outputs": [],
   "source": [
    "#import library\n",
    "import pandas as pd\n",
    "import numpy as np\n",
    "import seaborn as sns\n",
    "import matplotlib.pyplot as plt\n",
    "\n",
    "import prince \n",
    "from scipy.stats import chi2_contingency\n",
    "from scipy.stats import chisquare\n",
    "from scipy.stats import chi2\n",
    "from sklearn.model_selection import train_test_split\n",
    "from sklearn.metrics import classification_report\n",
    "from sklearn.linear_model import LogisticRegression\n",
    "from sklearn.metrics import confusion_matrix\n",
    "\n",
    "import statsmodels.api as sm\n",
    "\n",
    "%matplotlib inline\n",
    "\n",
    "#To display all columns\n",
    "pd.set_option('display.max_columns', None)\n",
    "\n",
    "# show float rounded by 2\n",
    "pd.options.display.float_format = \"{:.2f}\".format"
   ]
  },
  {
   "cell_type": "code",
   "execution_count": null,
   "metadata": {},
   "outputs": [],
   "source": []
  },
  {
   "cell_type": "code",
   "execution_count": null,
   "metadata": {},
   "outputs": [],
   "source": []
  },
  {
   "cell_type": "code",
   "execution_count": 2,
   "metadata": {},
   "outputs": [],
   "source": [
    "\n",
    "raw_outcomes = pd.read_csv(\"../Outsystem test/kdd-cup-2014-predicting-excitement-at-donors-choose/outcomes.csv/outcomes.csv\")"
   ]
  },
  {
   "cell_type": "code",
   "execution_count": null,
   "metadata": {},
   "outputs": [],
   "source": []
  },
  {
   "cell_type": "code",
   "execution_count": 3,
   "metadata": {},
   "outputs": [],
   "source": [
    "raw_projects = pd.read_csv(\"../Outsystem test/kdd-cup-2014-predicting-excitement-at-donors-choose/projects.csv/projects.csv\") "
   ]
  },
  {
   "cell_type": "code",
   "execution_count": 4,
   "metadata": {},
   "outputs": [],
   "source": [
    "raw_donations =pd.read_csv(\"../Outsystem test/kdd-cup-2014-predicting-excitement-at-donors-choose/donations.csv/donations.csv\") "
   ]
  },
  {
   "cell_type": "code",
   "execution_count": 5,
   "metadata": {},
   "outputs": [],
   "source": [
    "raw_outcomes.set_index('projectid', inplace = True)\n",
    "raw_projects.set_index('projectid', inplace = True)\n",
    "raw_donations.set_index('projectid', inplace = True)"
   ]
  },
  {
   "cell_type": "code",
   "execution_count": 6,
   "metadata": {},
   "outputs": [
    {
     "data": {
      "text/html": [
       "<div>\n",
       "<style scoped>\n",
       "    .dataframe tbody tr th:only-of-type {\n",
       "        vertical-align: middle;\n",
       "    }\n",
       "\n",
       "    .dataframe tbody tr th {\n",
       "        vertical-align: top;\n",
       "    }\n",
       "\n",
       "    .dataframe thead th {\n",
       "        text-align: right;\n",
       "    }\n",
       "</style>\n",
       "<table border=\"1\" class=\"dataframe\">\n",
       "  <thead>\n",
       "    <tr style=\"text-align: right;\">\n",
       "      <th></th>\n",
       "      <th>is_exciting</th>\n",
       "      <th>at_least_1_teacher_referred_donor</th>\n",
       "      <th>fully_funded</th>\n",
       "      <th>at_least_1_green_donation</th>\n",
       "      <th>great_chat</th>\n",
       "      <th>three_or_more_non_teacher_referred_donors</th>\n",
       "      <th>one_non_teacher_referred_donor_giving_100_plus</th>\n",
       "      <th>donation_from_thoughtful_donor</th>\n",
       "      <th>great_messages_proportion</th>\n",
       "      <th>teacher_referred_count</th>\n",
       "      <th>non_teacher_referred_count</th>\n",
       "      <th>date_posted</th>\n",
       "    </tr>\n",
       "    <tr>\n",
       "      <th>projectid</th>\n",
       "      <th></th>\n",
       "      <th></th>\n",
       "      <th></th>\n",
       "      <th></th>\n",
       "      <th></th>\n",
       "      <th></th>\n",
       "      <th></th>\n",
       "      <th></th>\n",
       "      <th></th>\n",
       "      <th></th>\n",
       "      <th></th>\n",
       "      <th></th>\n",
       "    </tr>\n",
       "  </thead>\n",
       "  <tbody>\n",
       "    <tr>\n",
       "      <th>ffffc4f85b60efc5b52347df489d0238</th>\n",
       "      <td>f</td>\n",
       "      <td>NaN</td>\n",
       "      <td>f</td>\n",
       "      <td>NaN</td>\n",
       "      <td>f</td>\n",
       "      <td>NaN</td>\n",
       "      <td>NaN</td>\n",
       "      <td>NaN</td>\n",
       "      <td>NaN</td>\n",
       "      <td>NaN</td>\n",
       "      <td>NaN</td>\n",
       "      <td>2009-10-11</td>\n",
       "    </tr>\n",
       "    <tr>\n",
       "      <th>ffffac55ee02a49d1abc87ba6fc61135</th>\n",
       "      <td>f</td>\n",
       "      <td>f</td>\n",
       "      <td>t</td>\n",
       "      <td>t</td>\n",
       "      <td>f</td>\n",
       "      <td>t</td>\n",
       "      <td>f</td>\n",
       "      <td>f</td>\n",
       "      <td>57.00</td>\n",
       "      <td>0.00</td>\n",
       "      <td>7.00</td>\n",
       "      <td>2011-06-11</td>\n",
       "    </tr>\n",
       "    <tr>\n",
       "      <th>ffff97ed93720407d70a2787475932b0</th>\n",
       "      <td>f</td>\n",
       "      <td>f</td>\n",
       "      <td>t</td>\n",
       "      <td>t</td>\n",
       "      <td>t</td>\n",
       "      <td>t</td>\n",
       "      <td>t</td>\n",
       "      <td>f</td>\n",
       "      <td>100.00</td>\n",
       "      <td>0.00</td>\n",
       "      <td>3.00</td>\n",
       "      <td>2010-09-11</td>\n",
       "    </tr>\n",
       "    <tr>\n",
       "      <th>ffff418bb42fad24347527ad96100f81</th>\n",
       "      <td>f</td>\n",
       "      <td>f</td>\n",
       "      <td>f</td>\n",
       "      <td>t</td>\n",
       "      <td>t</td>\n",
       "      <td>f</td>\n",
       "      <td>f</td>\n",
       "      <td>f</td>\n",
       "      <td>100.00</td>\n",
       "      <td>0.00</td>\n",
       "      <td>1.00</td>\n",
       "      <td>2009-04-03</td>\n",
       "    </tr>\n",
       "    <tr>\n",
       "      <th>ffff2d9c769c8fb5335e949c615425eb</th>\n",
       "      <td>t</td>\n",
       "      <td>t</td>\n",
       "      <td>t</td>\n",
       "      <td>t</td>\n",
       "      <td>t</td>\n",
       "      <td>f</td>\n",
       "      <td>t</td>\n",
       "      <td>f</td>\n",
       "      <td>63.00</td>\n",
       "      <td>6.00</td>\n",
       "      <td>2.00</td>\n",
       "      <td>2013-03-03</td>\n",
       "    </tr>\n",
       "  </tbody>\n",
       "</table>\n",
       "</div>"
      ],
      "text/plain": [
       "                                 is_exciting  \\\n",
       "projectid                                      \n",
       "ffffc4f85b60efc5b52347df489d0238           f   \n",
       "ffffac55ee02a49d1abc87ba6fc61135           f   \n",
       "ffff97ed93720407d70a2787475932b0           f   \n",
       "ffff418bb42fad24347527ad96100f81           f   \n",
       "ffff2d9c769c8fb5335e949c615425eb           t   \n",
       "\n",
       "                                 at_least_1_teacher_referred_donor  \\\n",
       "projectid                                                            \n",
       "ffffc4f85b60efc5b52347df489d0238                               NaN   \n",
       "ffffac55ee02a49d1abc87ba6fc61135                                 f   \n",
       "ffff97ed93720407d70a2787475932b0                                 f   \n",
       "ffff418bb42fad24347527ad96100f81                                 f   \n",
       "ffff2d9c769c8fb5335e949c615425eb                                 t   \n",
       "\n",
       "                                 fully_funded at_least_1_green_donation  \\\n",
       "projectid                                                                 \n",
       "ffffc4f85b60efc5b52347df489d0238            f                       NaN   \n",
       "ffffac55ee02a49d1abc87ba6fc61135            t                         t   \n",
       "ffff97ed93720407d70a2787475932b0            t                         t   \n",
       "ffff418bb42fad24347527ad96100f81            f                         t   \n",
       "ffff2d9c769c8fb5335e949c615425eb            t                         t   \n",
       "\n",
       "                                 great_chat  \\\n",
       "projectid                                     \n",
       "ffffc4f85b60efc5b52347df489d0238          f   \n",
       "ffffac55ee02a49d1abc87ba6fc61135          f   \n",
       "ffff97ed93720407d70a2787475932b0          t   \n",
       "ffff418bb42fad24347527ad96100f81          t   \n",
       "ffff2d9c769c8fb5335e949c615425eb          t   \n",
       "\n",
       "                                 three_or_more_non_teacher_referred_donors  \\\n",
       "projectid                                                                    \n",
       "ffffc4f85b60efc5b52347df489d0238                                       NaN   \n",
       "ffffac55ee02a49d1abc87ba6fc61135                                         t   \n",
       "ffff97ed93720407d70a2787475932b0                                         t   \n",
       "ffff418bb42fad24347527ad96100f81                                         f   \n",
       "ffff2d9c769c8fb5335e949c615425eb                                         f   \n",
       "\n",
       "                                 one_non_teacher_referred_donor_giving_100_plus  \\\n",
       "projectid                                                                         \n",
       "ffffc4f85b60efc5b52347df489d0238                                            NaN   \n",
       "ffffac55ee02a49d1abc87ba6fc61135                                              f   \n",
       "ffff97ed93720407d70a2787475932b0                                              t   \n",
       "ffff418bb42fad24347527ad96100f81                                              f   \n",
       "ffff2d9c769c8fb5335e949c615425eb                                              t   \n",
       "\n",
       "                                 donation_from_thoughtful_donor  \\\n",
       "projectid                                                         \n",
       "ffffc4f85b60efc5b52347df489d0238                            NaN   \n",
       "ffffac55ee02a49d1abc87ba6fc61135                              f   \n",
       "ffff97ed93720407d70a2787475932b0                              f   \n",
       "ffff418bb42fad24347527ad96100f81                              f   \n",
       "ffff2d9c769c8fb5335e949c615425eb                              f   \n",
       "\n",
       "                                  great_messages_proportion  \\\n",
       "projectid                                                     \n",
       "ffffc4f85b60efc5b52347df489d0238                        NaN   \n",
       "ffffac55ee02a49d1abc87ba6fc61135                      57.00   \n",
       "ffff97ed93720407d70a2787475932b0                     100.00   \n",
       "ffff418bb42fad24347527ad96100f81                     100.00   \n",
       "ffff2d9c769c8fb5335e949c615425eb                      63.00   \n",
       "\n",
       "                                  teacher_referred_count  \\\n",
       "projectid                                                  \n",
       "ffffc4f85b60efc5b52347df489d0238                     NaN   \n",
       "ffffac55ee02a49d1abc87ba6fc61135                    0.00   \n",
       "ffff97ed93720407d70a2787475932b0                    0.00   \n",
       "ffff418bb42fad24347527ad96100f81                    0.00   \n",
       "ffff2d9c769c8fb5335e949c615425eb                    6.00   \n",
       "\n",
       "                                  non_teacher_referred_count date_posted  \n",
       "projectid                                                                 \n",
       "ffffc4f85b60efc5b52347df489d0238                         NaN  2009-10-11  \n",
       "ffffac55ee02a49d1abc87ba6fc61135                        7.00  2011-06-11  \n",
       "ffff97ed93720407d70a2787475932b0                        3.00  2010-09-11  \n",
       "ffff418bb42fad24347527ad96100f81                        1.00  2009-04-03  \n",
       "ffff2d9c769c8fb5335e949c615425eb                        2.00  2013-03-03  "
      ]
     },
     "execution_count": 6,
     "metadata": {},
     "output_type": "execute_result"
    }
   ],
   "source": [
    "#joining date of the project with outcomes\n",
    "df_outcomes = raw_outcomes.join(raw_projects['date_posted'], how ='left')\n",
    "df_outcomes.head()"
   ]
  },
  {
   "cell_type": "code",
   "execution_count": 7,
   "metadata": {},
   "outputs": [],
   "source": [
    "df_outcomes = df_outcomes[df_outcomes.date_posted < '2014-01-01']\n",
    "\n"
   ]
  },
  {
   "cell_type": "code",
   "execution_count": 8,
   "metadata": {},
   "outputs": [
    {
     "data": {
      "text/plain": [
       "0.05927411411760527"
      ]
     },
     "execution_count": 8,
     "metadata": {},
     "output_type": "execute_result"
    }
   ],
   "source": [
    "# % of exciting projects\n",
    "len(df_outcomes[df_outcomes.is_exciting=='t'])/len(df_outcomes)"
   ]
  },
  {
   "cell_type": "markdown",
   "metadata": {},
   "source": [
    "## Exploratory Data analysis "
   ]
  },
  {
   "cell_type": "code",
   "execution_count": 9,
   "metadata": {},
   "outputs": [
    {
     "data": {
      "text/html": [
       "<div>\n",
       "<style scoped>\n",
       "    .dataframe tbody tr th:only-of-type {\n",
       "        vertical-align: middle;\n",
       "    }\n",
       "\n",
       "    .dataframe tbody tr th {\n",
       "        vertical-align: top;\n",
       "    }\n",
       "\n",
       "    .dataframe thead th {\n",
       "        text-align: right;\n",
       "    }\n",
       "</style>\n",
       "<table border=\"1\" class=\"dataframe\">\n",
       "  <thead>\n",
       "    <tr style=\"text-align: right;\">\n",
       "      <th></th>\n",
       "      <th>count_True</th>\n",
       "      <th>count_False</th>\n",
       "      <th>total</th>\n",
       "      <th>Percent_True</th>\n",
       "      <th>Percent_False</th>\n",
       "    </tr>\n",
       "  </thead>\n",
       "  <tbody>\n",
       "    <tr>\n",
       "      <th>is_exciting</th>\n",
       "      <td>36710</td>\n",
       "      <td>582616</td>\n",
       "      <td>619326</td>\n",
       "      <td>0.06</td>\n",
       "      <td>0.94</td>\n",
       "    </tr>\n",
       "    <tr>\n",
       "      <th>fully_funded</th>\n",
       "      <td>430683</td>\n",
       "      <td>188643</td>\n",
       "      <td>619326</td>\n",
       "      <td>0.70</td>\n",
       "      <td>0.30</td>\n",
       "    </tr>\n",
       "    <tr>\n",
       "      <th>at_least_1_teacher_referred_donor</th>\n",
       "      <td>124660</td>\n",
       "      <td>400268</td>\n",
       "      <td>524928</td>\n",
       "      <td>0.24</td>\n",
       "      <td>0.76</td>\n",
       "    </tr>\n",
       "    <tr>\n",
       "      <th>great_chat</th>\n",
       "      <td>187170</td>\n",
       "      <td>432156</td>\n",
       "      <td>619326</td>\n",
       "      <td>0.30</td>\n",
       "      <td>0.70</td>\n",
       "    </tr>\n",
       "    <tr>\n",
       "      <th>at_least_1_green_donation</th>\n",
       "      <td>378693</td>\n",
       "      <td>146235</td>\n",
       "      <td>524928</td>\n",
       "      <td>0.72</td>\n",
       "      <td>0.28</td>\n",
       "    </tr>\n",
       "    <tr>\n",
       "      <th>three_or_more_non_teacher_referred_donors</th>\n",
       "      <td>272378</td>\n",
       "      <td>252550</td>\n",
       "      <td>524928</td>\n",
       "      <td>0.52</td>\n",
       "      <td>0.48</td>\n",
       "    </tr>\n",
       "    <tr>\n",
       "      <th>one_non_teacher_referred_donor_giving_100_plus</th>\n",
       "      <td>377809</td>\n",
       "      <td>147119</td>\n",
       "      <td>524928</td>\n",
       "      <td>0.72</td>\n",
       "      <td>0.28</td>\n",
       "    </tr>\n",
       "    <tr>\n",
       "      <th>donation_from_thoughtful_donor</th>\n",
       "      <td>6936</td>\n",
       "      <td>517992</td>\n",
       "      <td>524928</td>\n",
       "      <td>0.01</td>\n",
       "      <td>0.99</td>\n",
       "    </tr>\n",
       "  </tbody>\n",
       "</table>\n",
       "</div>"
      ],
      "text/plain": [
       "                                                count_True  count_False  \\\n",
       "is_exciting                                          36710       582616   \n",
       "fully_funded                                        430683       188643   \n",
       "at_least_1_teacher_referred_donor                   124660       400268   \n",
       "great_chat                                          187170       432156   \n",
       "at_least_1_green_donation                           378693       146235   \n",
       "three_or_more_non_teacher_referred_donors           272378       252550   \n",
       "one_non_teacher_referred_donor_giving_100_plus      377809       147119   \n",
       "donation_from_thoughtful_donor                        6936       517992   \n",
       "\n",
       "                                                 total  Percent_True  \\\n",
       "is_exciting                                     619326          0.06   \n",
       "fully_funded                                    619326          0.70   \n",
       "at_least_1_teacher_referred_donor               524928          0.24   \n",
       "great_chat                                      619326          0.30   \n",
       "at_least_1_green_donation                       524928          0.72   \n",
       "three_or_more_non_teacher_referred_donors       524928          0.52   \n",
       "one_non_teacher_referred_donor_giving_100_plus  524928          0.72   \n",
       "donation_from_thoughtful_donor                  524928          0.01   \n",
       "\n",
       "                                                Percent_False  \n",
       "is_exciting                                              0.94  \n",
       "fully_funded                                             0.30  \n",
       "at_least_1_teacher_referred_donor                        0.76  \n",
       "great_chat                                               0.70  \n",
       "at_least_1_green_donation                                0.28  \n",
       "three_or_more_non_teacher_referred_donors                0.48  \n",
       "one_non_teacher_referred_donor_giving_100_plus           0.28  \n",
       "donation_from_thoughtful_donor                           0.99  "
      ]
     },
     "execution_count": 9,
     "metadata": {},
     "output_type": "execute_result"
    }
   ],
   "source": [
    "col =['is_exciting','fully_funded','at_least_1_teacher_referred_donor','great_chat','at_least_1_green_donation',\n",
    "      'three_or_more_non_teacher_referred_donors','one_non_teacher_referred_donor_giving_100_plus',\n",
    "      'donation_from_thoughtful_donor'\n",
    "     ]\n",
    "\n",
    "\n",
    "\n",
    "\n",
    "out_true=[]\n",
    "out_false=[]\n",
    "out_not_null =[]\n",
    "for n in col:\n",
    "    out_true.append(len(df_outcomes[df_outcomes[n]=='t']))\n",
    "    out_false.append(len(df_outcomes[df_outcomes[n]=='f']))\n",
    "    out_not_null.append(df_outcomes[pd.notnull(df_outcomes[n])].shape[0])\n",
    "\n",
    "out_grouped =pd.DataFrame({'count_True':out_true,'count_False':out_false, 'total':out_not_null}, index= col)\n",
    "\n",
    "out_grouped['Percent_True'] = out_grouped.count_True/out_grouped.total\n",
    "\n",
    "out_grouped['Percent_False'] = out_grouped.count_False/out_grouped.total\n",
    "\n",
    "out_grouped\n",
    "\n"
   ]
  },
  {
   "cell_type": "code",
   "execution_count": null,
   "metadata": {},
   "outputs": [],
   "source": []
  },
  {
   "cell_type": "code",
   "execution_count": 10,
   "metadata": {},
   "outputs": [
    {
     "data": {
      "image/png": "[encoded data removed]",
      "text/plain": [
       "<Figure size 1440x720 with 1 Axes>"
      ]
     },
     "metadata": {
      "needs_background": "light"
     },
     "output_type": "display_data"
    }
   ],
   "source": [
    "list_values = (out_grouped['Percent_True'].append(out_grouped['Percent_False']))\n",
    "\n",
    "ax=out_grouped[['count_True', 'count_False']].plot(kind='bar', stacked=True,figsize=(20,10))\n",
    "\n",
    "\n",
    "for rect, value in zip(ax.patches, list_values):\n",
    "    if value != 0:\n",
    "        h = rect.get_height() /2.\n",
    "        w = rect.get_width() /2.\n",
    "        x, y = rect.get_xy()\n",
    "        ax.text(x+w, y+h,round(value,2),horizontalalignment='center',verticalalignment='center')\n",
    "\n"
   ]
  },
  {
   "cell_type": "markdown",
   "metadata": {},
   "source": [
    "Transforming fields in dummy variables"
   ]
  },
  {
   "cell_type": "code",
   "execution_count": 11,
   "metadata": {},
   "outputs": [
    {
     "data": {
      "text/html": [
       "<div>\n",
       "<style scoped>\n",
       "    .dataframe tbody tr th:only-of-type {\n",
       "        vertical-align: middle;\n",
       "    }\n",
       "\n",
       "    .dataframe tbody tr th {\n",
       "        vertical-align: top;\n",
       "    }\n",
       "\n",
       "    .dataframe thead th {\n",
       "        text-align: right;\n",
       "    }\n",
       "</style>\n",
       "<table border=\"1\" class=\"dataframe\">\n",
       "  <thead>\n",
       "    <tr style=\"text-align: right;\">\n",
       "      <th></th>\n",
       "      <th>is_exciting_t</th>\n",
       "      <th>at_least_1_teacher_referred_donor_t</th>\n",
       "      <th>fully_funded_t</th>\n",
       "      <th>at_least_1_green_donation_t</th>\n",
       "      <th>great_chat_t</th>\n",
       "      <th>three_or_more_non_teacher_referred_donors_t</th>\n",
       "      <th>one_non_teacher_referred_donor_giving_100_plus_t</th>\n",
       "      <th>donation_from_thoughtful_donor_t</th>\n",
       "    </tr>\n",
       "    <tr>\n",
       "      <th>projectid</th>\n",
       "      <th></th>\n",
       "      <th></th>\n",
       "      <th></th>\n",
       "      <th></th>\n",
       "      <th></th>\n",
       "      <th></th>\n",
       "      <th></th>\n",
       "      <th></th>\n",
       "    </tr>\n",
       "  </thead>\n",
       "  <tbody>\n",
       "    <tr>\n",
       "      <th>ffffc4f85b60efc5b52347df489d0238</th>\n",
       "      <td>0</td>\n",
       "      <td>0</td>\n",
       "      <td>0</td>\n",
       "      <td>0</td>\n",
       "      <td>0</td>\n",
       "      <td>0</td>\n",
       "      <td>0</td>\n",
       "      <td>0</td>\n",
       "    </tr>\n",
       "    <tr>\n",
       "      <th>ffffac55ee02a49d1abc87ba6fc61135</th>\n",
       "      <td>0</td>\n",
       "      <td>0</td>\n",
       "      <td>1</td>\n",
       "      <td>1</td>\n",
       "      <td>0</td>\n",
       "      <td>1</td>\n",
       "      <td>0</td>\n",
       "      <td>0</td>\n",
       "    </tr>\n",
       "    <tr>\n",
       "      <th>ffff97ed93720407d70a2787475932b0</th>\n",
       "      <td>0</td>\n",
       "      <td>0</td>\n",
       "      <td>1</td>\n",
       "      <td>1</td>\n",
       "      <td>1</td>\n",
       "      <td>1</td>\n",
       "      <td>1</td>\n",
       "      <td>0</td>\n",
       "    </tr>\n",
       "    <tr>\n",
       "      <th>ffff418bb42fad24347527ad96100f81</th>\n",
       "      <td>0</td>\n",
       "      <td>0</td>\n",
       "      <td>0</td>\n",
       "      <td>1</td>\n",
       "      <td>1</td>\n",
       "      <td>0</td>\n",
       "      <td>0</td>\n",
       "      <td>0</td>\n",
       "    </tr>\n",
       "    <tr>\n",
       "      <th>ffff2d9c769c8fb5335e949c615425eb</th>\n",
       "      <td>1</td>\n",
       "      <td>1</td>\n",
       "      <td>1</td>\n",
       "      <td>1</td>\n",
       "      <td>1</td>\n",
       "      <td>0</td>\n",
       "      <td>1</td>\n",
       "      <td>0</td>\n",
       "    </tr>\n",
       "    <tr>\n",
       "      <th>...</th>\n",
       "      <td>...</td>\n",
       "      <td>...</td>\n",
       "      <td>...</td>\n",
       "      <td>...</td>\n",
       "      <td>...</td>\n",
       "      <td>...</td>\n",
       "      <td>...</td>\n",
       "      <td>...</td>\n",
       "    </tr>\n",
       "    <tr>\n",
       "      <th>0000ee613c92ddc5298bf63142996a5c</th>\n",
       "      <td>0</td>\n",
       "      <td>1</td>\n",
       "      <td>1</td>\n",
       "      <td>1</td>\n",
       "      <td>0</td>\n",
       "      <td>1</td>\n",
       "      <td>1</td>\n",
       "      <td>0</td>\n",
       "    </tr>\n",
       "    <tr>\n",
       "      <th>0000b38bbc7252972f7984848cf58098</th>\n",
       "      <td>0</td>\n",
       "      <td>0</td>\n",
       "      <td>1</td>\n",
       "      <td>1</td>\n",
       "      <td>0</td>\n",
       "      <td>0</td>\n",
       "      <td>1</td>\n",
       "      <td>0</td>\n",
       "    </tr>\n",
       "    <tr>\n",
       "      <th>00002d691c05c51a5fdfbb2baef0ba25</th>\n",
       "      <td>0</td>\n",
       "      <td>0</td>\n",
       "      <td>0</td>\n",
       "      <td>0</td>\n",
       "      <td>1</td>\n",
       "      <td>1</td>\n",
       "      <td>0</td>\n",
       "      <td>0</td>\n",
       "    </tr>\n",
       "    <tr>\n",
       "      <th>00002bff514104264a6b798356fdd893</th>\n",
       "      <td>0</td>\n",
       "      <td>0</td>\n",
       "      <td>1</td>\n",
       "      <td>1</td>\n",
       "      <td>0</td>\n",
       "      <td>0</td>\n",
       "      <td>1</td>\n",
       "      <td>0</td>\n",
       "    </tr>\n",
       "    <tr>\n",
       "      <th>00001ccc0e81598c4bd86bacb94d7acb</th>\n",
       "      <td>0</td>\n",
       "      <td>0</td>\n",
       "      <td>1</td>\n",
       "      <td>1</td>\n",
       "      <td>0</td>\n",
       "      <td>1</td>\n",
       "      <td>1</td>\n",
       "      <td>0</td>\n",
       "    </tr>\n",
       "  </tbody>\n",
       "</table>\n",
       "<p>619326 rows × 8 columns</p>\n",
       "</div>"
      ],
      "text/plain": [
       "                                  is_exciting_t  \\\n",
       "projectid                                         \n",
       "ffffc4f85b60efc5b52347df489d0238              0   \n",
       "ffffac55ee02a49d1abc87ba6fc61135              0   \n",
       "ffff97ed93720407d70a2787475932b0              0   \n",
       "ffff418bb42fad24347527ad96100f81              0   \n",
       "ffff2d9c769c8fb5335e949c615425eb              1   \n",
       "...                                         ...   \n",
       "0000ee613c92ddc5298bf63142996a5c              0   \n",
       "0000b38bbc7252972f7984848cf58098              0   \n",
       "00002d691c05c51a5fdfbb2baef0ba25              0   \n",
       "00002bff514104264a6b798356fdd893              0   \n",
       "00001ccc0e81598c4bd86bacb94d7acb              0   \n",
       "\n",
       "                                  at_least_1_teacher_referred_donor_t  \\\n",
       "projectid                                                               \n",
       "ffffc4f85b60efc5b52347df489d0238                                    0   \n",
       "ffffac55ee02a49d1abc87ba6fc61135                                    0   \n",
       "ffff97ed93720407d70a2787475932b0                                    0   \n",
       "ffff418bb42fad24347527ad96100f81                                    0   \n",
       "ffff2d9c769c8fb5335e949c615425eb                                    1   \n",
       "...                                                               ...   \n",
       "0000ee613c92ddc5298bf63142996a5c                                    1   \n",
       "0000b38bbc7252972f7984848cf58098                                    0   \n",
       "00002d691c05c51a5fdfbb2baef0ba25                                    0   \n",
       "00002bff514104264a6b798356fdd893                                    0   \n",
       "00001ccc0e81598c4bd86bacb94d7acb                                    0   \n",
       "\n",
       "                                  fully_funded_t  at_least_1_green_donation_t  \\\n",
       "projectid                                                                       \n",
       "ffffc4f85b60efc5b52347df489d0238               0                            0   \n",
       "ffffac55ee02a49d1abc87ba6fc61135               1                            1   \n",
       "ffff97ed93720407d70a2787475932b0               1                            1   \n",
       "ffff418bb42fad24347527ad96100f81               0                            1   \n",
       "ffff2d9c769c8fb5335e949c615425eb               1                            1   \n",
       "...                                          ...                          ...   \n",
       "0000ee613c92ddc5298bf63142996a5c               1                            1   \n",
       "0000b38bbc7252972f7984848cf58098               1                            1   \n",
       "00002d691c05c51a5fdfbb2baef0ba25               0                            0   \n",
       "00002bff514104264a6b798356fdd893               1                            1   \n",
       "00001ccc0e81598c4bd86bacb94d7acb               1                            1   \n",
       "\n",
       "                                  great_chat_t  \\\n",
       "projectid                                        \n",
       "ffffc4f85b60efc5b52347df489d0238             0   \n",
       "ffffac55ee02a49d1abc87ba6fc61135             0   \n",
       "ffff97ed93720407d70a2787475932b0             1   \n",
       "ffff418bb42fad24347527ad96100f81             1   \n",
       "ffff2d9c769c8fb5335e949c615425eb             1   \n",
       "...                                        ...   \n",
       "0000ee613c92ddc5298bf63142996a5c             0   \n",
       "0000b38bbc7252972f7984848cf58098             0   \n",
       "00002d691c05c51a5fdfbb2baef0ba25             1   \n",
       "00002bff514104264a6b798356fdd893             0   \n",
       "00001ccc0e81598c4bd86bacb94d7acb             0   \n",
       "\n",
       "                                  three_or_more_non_teacher_referred_donors_t  \\\n",
       "projectid                                                                       \n",
       "ffffc4f85b60efc5b52347df489d0238                                            0   \n",
       "ffffac55ee02a49d1abc87ba6fc61135                                            1   \n",
       "ffff97ed93720407d70a2787475932b0                                            1   \n",
       "ffff418bb42fad24347527ad96100f81                                            0   \n",
       "ffff2d9c769c8fb5335e949c615425eb                                            0   \n",
       "...                                                                       ...   \n",
       "0000ee613c92ddc5298bf63142996a5c                                            1   \n",
       "0000b38bbc7252972f7984848cf58098                                            0   \n",
       "00002d691c05c51a5fdfbb2baef0ba25                                            1   \n",
       "00002bff514104264a6b798356fdd893                                            0   \n",
       "00001ccc0e81598c4bd86bacb94d7acb                                            1   \n",
       "\n",
       "                                  one_non_teacher_referred_donor_giving_100_plus_t  \\\n",
       "projectid                                                                            \n",
       "ffffc4f85b60efc5b52347df489d0238                                                 0   \n",
       "ffffac55ee02a49d1abc87ba6fc61135                                                 0   \n",
       "ffff97ed93720407d70a2787475932b0                                                 1   \n",
       "ffff418bb42fad24347527ad96100f81                                                 0   \n",
       "ffff2d9c769c8fb5335e949c615425eb                                                 1   \n",
       "...                                                                            ...   \n",
       "0000ee613c92ddc5298bf63142996a5c                                                 1   \n",
       "0000b38bbc7252972f7984848cf58098                                                 1   \n",
       "00002d691c05c51a5fdfbb2baef0ba25                                                 0   \n",
       "00002bff514104264a6b798356fdd893                                                 1   \n",
       "00001ccc0e81598c4bd86bacb94d7acb                                                 1   \n",
       "\n",
       "                                  donation_from_thoughtful_donor_t  \n",
       "projectid                                                           \n",
       "ffffc4f85b60efc5b52347df489d0238                                 0  \n",
       "ffffac55ee02a49d1abc87ba6fc61135                                 0  \n",
       "ffff97ed93720407d70a2787475932b0                                 0  \n",
       "ffff418bb42fad24347527ad96100f81                                 0  \n",
       "ffff2d9c769c8fb5335e949c615425eb                                 0  \n",
       "...                                                            ...  \n",
       "0000ee613c92ddc5298bf63142996a5c                                 0  \n",
       "0000b38bbc7252972f7984848cf58098                                 0  \n",
       "00002d691c05c51a5fdfbb2baef0ba25                                 0  \n",
       "00002bff514104264a6b798356fdd893                                 0  \n",
       "00001ccc0e81598c4bd86bacb94d7acb                                 0  \n",
       "\n",
       "[619326 rows x 8 columns]"
      ]
     },
     "execution_count": 11,
     "metadata": {},
     "output_type": "execute_result"
    }
   ],
   "source": [
    "dummies = pd.get_dummies(df_outcomes[['is_exciting', 'at_least_1_teacher_referred_donor', 'fully_funded',\n",
    "       'at_least_1_green_donation', 'great_chat',\n",
    "       'three_or_more_non_teacher_referred_donors',\n",
    "       'one_non_teacher_referred_donor_giving_100_plus',\n",
    "       'donation_from_thoughtful_donor']],drop_first=True)\n",
    "dummies"
   ]
  },
  {
   "cell_type": "code",
   "execution_count": 12,
   "metadata": {},
   "outputs": [],
   "source": [
    "df_outcomes['dum_at_least_1_teacher_referred_donor']=dummies['at_least_1_teacher_referred_donor_t']\n",
    "df_outcomes['dum_fully_funded']=dummies['fully_funded_t']\n",
    "df_outcomes['dum_at_least_1_green_donation']=dummies['at_least_1_green_donation_t']\n",
    "df_outcomes['dum_great_chat']=dummies['great_chat_t']\n",
    "df_outcomes['dum_three_or_more_non_teacher_referred_donors']=dummies['three_or_more_non_teacher_referred_donors_t']\n",
    "df_outcomes['dum_one_non_teacher_referred_donor_giving_100_plus']=dummies['one_non_teacher_referred_donor_giving_100_plus_t']\n",
    "df_outcomes['dum_donation_from_thoughtful_donor']=dummies['donation_from_thoughtful_donor_t']\n",
    "\n",
    "df_outcomes['dum_is_exciting']=dummies['is_exciting_t']"
   ]
  },
  {
   "cell_type": "code",
   "execution_count": null,
   "metadata": {},
   "outputs": [],
   "source": []
  },
  {
   "cell_type": "code",
   "execution_count": 13,
   "metadata": {},
   "outputs": [
    {
     "data": {
      "text/plain": [
       "Index(['is_exciting', 'at_least_1_teacher_referred_donor', 'fully_funded',\n",
       "       'at_least_1_green_donation', 'great_chat',\n",
       "       'three_or_more_non_teacher_referred_donors',\n",
       "       'one_non_teacher_referred_donor_giving_100_plus',\n",
       "       'donation_from_thoughtful_donor', 'great_messages_proportion',\n",
       "       'teacher_referred_count', 'non_teacher_referred_count', 'date_posted',\n",
       "       'dum_at_least_1_teacher_referred_donor', 'dum_fully_funded',\n",
       "       'dum_at_least_1_green_donation', 'dum_great_chat',\n",
       "       'dum_three_or_more_non_teacher_referred_donors',\n",
       "       'dum_one_non_teacher_referred_donor_giving_100_plus',\n",
       "       'dum_donation_from_thoughtful_donor', 'dum_is_exciting'],\n",
       "      dtype='object')"
      ]
     },
     "execution_count": 13,
     "metadata": {},
     "output_type": "execute_result"
    }
   ],
   "source": [
    "df_outcomes.columns"
   ]
  },
  {
   "cell_type": "code",
   "execution_count": null,
   "metadata": {},
   "outputs": [],
   "source": []
  },
  {
   "cell_type": "code",
   "execution_count": null,
   "metadata": {},
   "outputs": [],
   "source": []
  },
  {
   "cell_type": "markdown",
   "metadata": {},
   "source": [
    "### find correlations"
   ]
  },
  {
   "cell_type": "code",
   "execution_count": 14,
   "metadata": {},
   "outputs": [
    {
     "data": {
      "text/plain": [
       "dum_is_exciting                                      1.00\n",
       "dum_at_least_1_teacher_referred_donor                0.50\n",
       "dum_great_chat                                       0.38\n",
       "dum_three_or_more_non_teacher_referred_donors        0.21\n",
       "dum_at_least_1_green_donation                        0.20\n",
       "dum_fully_funded                                     0.17\n",
       "dum_one_non_teacher_referred_donor_giving_100_plus   0.07\n",
       "dum_donation_from_thoughtful_donor                   0.04\n",
       "Name: dum_is_exciting, dtype: float64"
      ]
     },
     "execution_count": 14,
     "metadata": {},
     "output_type": "execute_result"
    }
   ],
   "source": [
    "corrmat =df_outcomes[['dum_at_least_1_teacher_referred_donor', 'dum_fully_funded',\n",
    "       'dum_at_least_1_green_donation', 'dum_great_chat',\n",
    "       'dum_three_or_more_non_teacher_referred_donors',\n",
    "       'dum_one_non_teacher_referred_donor_giving_100_plus',\n",
    "       'dum_donation_from_thoughtful_donor', 'dum_is_exciting']].corr()\n",
    "corrmat.sort_values(by='dum_is_exciting',ascending=False)['dum_is_exciting']"
   ]
  },
  {
   "cell_type": "code",
   "execution_count": null,
   "metadata": {},
   "outputs": [],
   "source": []
  },
  {
   "cell_type": "code",
   "execution_count": 15,
   "metadata": {},
   "outputs": [
    {
     "data": {
      "text/plain": [
       "<AxesSubplot:>"
      ]
     },
     "execution_count": 15,
     "metadata": {},
     "output_type": "execute_result"
    },
    {
     "data": {
      "image/png": "[encoded data removed]",
      "text/plain": [
       "<Figure size 864x648 with 2 Axes>"
      ]
     },
     "metadata": {
      "needs_background": "light"
     },
     "output_type": "display_data"
    }
   ],
   "source": [
    "f, ax = plt.subplots(figsize=(12, 9))\n",
    "sns.heatmap(corrmat,cmap='RdYlGn',fmt='.2f',annot=True,)"
   ]
  },
  {
   "cell_type": "markdown",
   "metadata": {},
   "source": [
    "## Chis Square test"
   ]
  },
  {
   "cell_type": "code",
   "execution_count": 16,
   "metadata": {},
   "outputs": [
    {
     "data": {
      "text/html": [
       "<div>\n",
       "<style scoped>\n",
       "    .dataframe tbody tr th:only-of-type {\n",
       "        vertical-align: middle;\n",
       "    }\n",
       "\n",
       "    .dataframe tbody tr th {\n",
       "        vertical-align: top;\n",
       "    }\n",
       "\n",
       "    .dataframe thead th {\n",
       "        text-align: right;\n",
       "    }\n",
       "</style>\n",
       "<table border=\"1\" class=\"dataframe\">\n",
       "  <thead>\n",
       "    <tr style=\"text-align: right;\">\n",
       "      <th></th>\n",
       "      <th>cols</th>\n",
       "      <th>chi2</th>\n",
       "      <th>pval</th>\n",
       "      <th>dof</th>\n",
       "      <th>critical value</th>\n",
       "      <th>flg_critical</th>\n",
       "      <th>flg_pval</th>\n",
       "      <th>cramer_test</th>\n",
       "    </tr>\n",
       "  </thead>\n",
       "  <tbody>\n",
       "    <tr>\n",
       "      <th>0</th>\n",
       "      <td>at_least_1_teacher_referred_donor</td>\n",
       "      <td>126729.75</td>\n",
       "      <td>0.00</td>\n",
       "      <td>1</td>\n",
       "      <td>10.83</td>\n",
       "      <td>True</td>\n",
       "      <td>True</td>\n",
       "      <td>0.54</td>\n",
       "    </tr>\n",
       "    <tr>\n",
       "      <th>1</th>\n",
       "      <td>fully_funded</td>\n",
       "      <td>17090.92</td>\n",
       "      <td>0.00</td>\n",
       "      <td>1</td>\n",
       "      <td>10.83</td>\n",
       "      <td>True</td>\n",
       "      <td>True</td>\n",
       "      <td>0.20</td>\n",
       "    </tr>\n",
       "    <tr>\n",
       "      <th>2</th>\n",
       "      <td>at_least_1_green_donation</td>\n",
       "      <td>15240.24</td>\n",
       "      <td>0.00</td>\n",
       "      <td>1</td>\n",
       "      <td>10.83</td>\n",
       "      <td>True</td>\n",
       "      <td>True</td>\n",
       "      <td>0.19</td>\n",
       "    </tr>\n",
       "    <tr>\n",
       "      <th>3</th>\n",
       "      <td>great_chat</td>\n",
       "      <td>90096.65</td>\n",
       "      <td>0.00</td>\n",
       "      <td>1</td>\n",
       "      <td>10.83</td>\n",
       "      <td>True</td>\n",
       "      <td>True</td>\n",
       "      <td>0.45</td>\n",
       "    </tr>\n",
       "    <tr>\n",
       "      <th>4</th>\n",
       "      <td>three_or_more_non_teacher_referred_donors</td>\n",
       "      <td>18659.20</td>\n",
       "      <td>0.00</td>\n",
       "      <td>1</td>\n",
       "      <td>10.83</td>\n",
       "      <td>True</td>\n",
       "      <td>True</td>\n",
       "      <td>0.21</td>\n",
       "    </tr>\n",
       "    <tr>\n",
       "      <th>5</th>\n",
       "      <td>one_non_teacher_referred_donor_giving_100_plus</td>\n",
       "      <td>235.31</td>\n",
       "      <td>0.00</td>\n",
       "      <td>1</td>\n",
       "      <td>10.83</td>\n",
       "      <td>True</td>\n",
       "      <td>True</td>\n",
       "      <td>0.02</td>\n",
       "    </tr>\n",
       "  </tbody>\n",
       "</table>\n",
       "</div>"
      ],
      "text/plain": [
       "                                             cols      chi2  pval  dof  \\\n",
       "0               at_least_1_teacher_referred_donor 126729.75  0.00    1   \n",
       "1                                    fully_funded  17090.92  0.00    1   \n",
       "2                       at_least_1_green_donation  15240.24  0.00    1   \n",
       "3                                      great_chat  90096.65  0.00    1   \n",
       "4       three_or_more_non_teacher_referred_donors  18659.20  0.00    1   \n",
       "5  one_non_teacher_referred_donor_giving_100_plus    235.31  0.00    1   \n",
       "\n",
       "   critical value  flg_critical  flg_pval  cramer_test  \n",
       "0           10.83          True      True         0.54  \n",
       "1           10.83          True      True         0.20  \n",
       "2           10.83          True      True         0.19  \n",
       "3           10.83          True      True         0.45  \n",
       "4           10.83          True      True         0.21  \n",
       "5           10.83          True      True         0.02  "
      ]
     },
     "execution_count": 16,
     "metadata": {},
     "output_type": "execute_result"
    }
   ],
   "source": [
    "cols =['at_least_1_teacher_referred_donor', 'fully_funded',\n",
    "       'at_least_1_green_donation', 'great_chat',\n",
    "       'three_or_more_non_teacher_referred_donors',\n",
    "       'one_non_teacher_referred_donor_giving_100_plus']\n",
    "      \n",
    "\n",
    "##creating df for chi square\n",
    "\n",
    "df_chi_square=pd.DataFrame()\n",
    "chi=[]\n",
    "pval=[]\n",
    "dof=[]\n",
    "critical_value=[]\n",
    "cramer_test=[]\n",
    "\n",
    "## Critical value table for chi square\n",
    "\n",
    "significance = 0.001\n",
    "p = 1 - significance\n",
    "\n",
    "\n",
    "for col in cols:\n",
    "    contingency_table = pd.crosstab(df_outcomes.is_exciting,df_outcomes[col])\n",
    "    chi_x, pval_x, dof_x, exp_x = chi2_contingency(contingency_table)\n",
    "    chi.append(chi_x)\n",
    "    pval.append(pval_x)\n",
    "    dof.append(dof_x)\n",
    "    critical_value_x = chi2.ppf(p, dof_x)\n",
    "    critical_value.append(critical_value_x)\n",
    "    n=len(df_outcomes.dropna()) ### number on the sample\n",
    "    cramer_test_x= np.sqrt(chi_x/(n*dof_x)) ##cramer's V test formula\n",
    "    cramer_test.append(round(cramer_test_x,2))\n",
    "\n",
    "df_chi_square['cols']=cols\n",
    "df_chi_square['chi2']=chi\n",
    "df_chi_square['pval']=pval\n",
    "df_chi_square['dof']=dof\n",
    "df_chi_square['critical value']=critical_value\n",
    "df_chi_square['flg_critical']=df_chi_square['chi2']>df_chi_square['critical value']\n",
    "df_chi_square['flg_pval'] =df_chi_square['pval']<0.005\n",
    "df_chi_square['cramer_test']=cramer_test\n",
    "df_chi_square"
   ]
  },
  {
   "cell_type": "code",
   "execution_count": null,
   "metadata": {},
   "outputs": [],
   "source": []
  },
  {
   "cell_type": "raw",
   "metadata": {},
   "source": [
    "cols = col =['is_exciting','fully_funded','at_least_1_teacher_referred_donor','great_chat','at_least_1_green_donation',\n",
    "      'three_or_more_non_teacher_referred_donors','one_non_teacher_referred_donor_giving_100_plus',\n",
    "      'donation_from_thoughtful_donor'\n",
    "     ]\n",
    "\n",
    "import prince\n",
    "mca = prince.MCA(\n",
    "    n_components=5,\n",
    "    n_iter=3,\n",
    "    copy=True,\n",
    "    check_input=True,\n",
    "    engine='auto',\n",
    "    random_state=42\n",
    ")\n",
    "mca = mca.fit(test_outcomes[cols])"
   ]
  },
  {
   "cell_type": "raw",
   "metadata": {},
   "source": [
    " ax = mca.plot_coordinates(\n",
    "     X=test_outcomes[cols],\n",
    "     ax=None,\n",
    "     figsize=(15, 10),\n",
    "     show_row_points=True,\n",
    "     row_points_size=10,\n",
    "     show_row_labels=False,\n",
    "     show_column_points=True,\n",
    "     column_points_size=30,\n",
    "     show_column_labels=True,\n",
    "     legend_n_cols=1\n",
    " )\n"
   ]
  },
  {
   "cell_type": "code",
   "execution_count": 17,
   "metadata": {},
   "outputs": [
    {
     "data": {
      "text/html": [
       "<div>\n",
       "<style scoped>\n",
       "    .dataframe tbody tr th:only-of-type {\n",
       "        vertical-align: middle;\n",
       "    }\n",
       "\n",
       "    .dataframe tbody tr th {\n",
       "        vertical-align: top;\n",
       "    }\n",
       "\n",
       "    .dataframe thead tr th {\n",
       "        text-align: left;\n",
       "    }\n",
       "\n",
       "    .dataframe thead tr:last-of-type th {\n",
       "        text-align: right;\n",
       "    }\n",
       "</style>\n",
       "<table border=\"1\" class=\"dataframe\">\n",
       "  <thead>\n",
       "    <tr>\n",
       "      <th>fully_funded</th>\n",
       "      <th colspan=\"8\" halign=\"left\">f</th>\n",
       "      <th colspan=\"8\" halign=\"left\">t</th>\n",
       "    </tr>\n",
       "    <tr>\n",
       "      <th>at_least_1_teacher_referred_donor</th>\n",
       "      <th colspan=\"4\" halign=\"left\">f</th>\n",
       "      <th colspan=\"4\" halign=\"left\">t</th>\n",
       "      <th colspan=\"4\" halign=\"left\">f</th>\n",
       "      <th colspan=\"4\" halign=\"left\">t</th>\n",
       "    </tr>\n",
       "    <tr>\n",
       "      <th>great_chat</th>\n",
       "      <th colspan=\"2\" halign=\"left\">f</th>\n",
       "      <th colspan=\"2\" halign=\"left\">t</th>\n",
       "      <th colspan=\"2\" halign=\"left\">f</th>\n",
       "      <th colspan=\"2\" halign=\"left\">t</th>\n",
       "      <th colspan=\"2\" halign=\"left\">f</th>\n",
       "      <th colspan=\"2\" halign=\"left\">t</th>\n",
       "      <th colspan=\"2\" halign=\"left\">f</th>\n",
       "      <th colspan=\"2\" halign=\"left\">t</th>\n",
       "    </tr>\n",
       "    <tr>\n",
       "      <th>at_least_1_green_donation</th>\n",
       "      <th>f</th>\n",
       "      <th>t</th>\n",
       "      <th>f</th>\n",
       "      <th>t</th>\n",
       "      <th>f</th>\n",
       "      <th>t</th>\n",
       "      <th>f</th>\n",
       "      <th>t</th>\n",
       "      <th>f</th>\n",
       "      <th>t</th>\n",
       "      <th>f</th>\n",
       "      <th>t</th>\n",
       "      <th>f</th>\n",
       "      <th>t</th>\n",
       "      <th>f</th>\n",
       "      <th>t</th>\n",
       "    </tr>\n",
       "    <tr>\n",
       "      <th>is_exciting</th>\n",
       "      <th></th>\n",
       "      <th></th>\n",
       "      <th></th>\n",
       "      <th></th>\n",
       "      <th></th>\n",
       "      <th></th>\n",
       "      <th></th>\n",
       "      <th></th>\n",
       "      <th></th>\n",
       "      <th></th>\n",
       "      <th></th>\n",
       "      <th></th>\n",
       "      <th></th>\n",
       "      <th></th>\n",
       "      <th></th>\n",
       "      <th></th>\n",
       "    </tr>\n",
       "  </thead>\n",
       "  <tbody>\n",
       "    <tr>\n",
       "      <th>f</th>\n",
       "      <td>26305</td>\n",
       "      <td>14343</td>\n",
       "      <td>17311</td>\n",
       "      <td>21085</td>\n",
       "      <td>1184</td>\n",
       "      <td>6215</td>\n",
       "      <td>932</td>\n",
       "      <td>7281</td>\n",
       "      <td>84610</td>\n",
       "      <td>137641</td>\n",
       "      <td>11939</td>\n",
       "      <td>87034</td>\n",
       "      <td>3041</td>\n",
       "      <td>64441</td>\n",
       "      <td>913</td>\n",
       "      <td>3943</td>\n",
       "    </tr>\n",
       "    <tr>\n",
       "      <th>t</th>\n",
       "      <td>0</td>\n",
       "      <td>0</td>\n",
       "      <td>0</td>\n",
       "      <td>0</td>\n",
       "      <td>0</td>\n",
       "      <td>0</td>\n",
       "      <td>0</td>\n",
       "      <td>0</td>\n",
       "      <td>0</td>\n",
       "      <td>0</td>\n",
       "      <td>0</td>\n",
       "      <td>0</td>\n",
       "      <td>0</td>\n",
       "      <td>0</td>\n",
       "      <td>0</td>\n",
       "      <td>36710</td>\n",
       "    </tr>\n",
       "  </tbody>\n",
       "</table>\n",
       "</div>"
      ],
      "text/plain": [
       "fully_funded                           f                                   \\\n",
       "at_least_1_teacher_referred_donor      f                          t         \n",
       "great_chat                             f             t            f         \n",
       "at_least_1_green_donation              f      t      f      t     f     t   \n",
       "is_exciting                                                                 \n",
       "f                                  26305  14343  17311  21085  1184  6215   \n",
       "t                                      0      0      0      0     0     0   \n",
       "\n",
       "fully_funded                                      t                        \\\n",
       "at_least_1_teacher_referred_donor                 f                         \n",
       "great_chat                           t            f              t          \n",
       "at_least_1_green_donation            f     t      f       t      f      t   \n",
       "is_exciting                                                                 \n",
       "f                                  932  7281  84610  137641  11939  87034   \n",
       "t                                    0     0      0       0      0      0   \n",
       "\n",
       "fully_funded                                                \n",
       "at_least_1_teacher_referred_donor     t                     \n",
       "great_chat                            f           t         \n",
       "at_least_1_green_donation             f      t    f      t  \n",
       "is_exciting                                                 \n",
       "f                                  3041  64441  913   3943  \n",
       "t                                     0      0    0  36710  "
      ]
     },
     "execution_count": 17,
     "metadata": {},
     "output_type": "execute_result"
    }
   ],
   "source": [
    "#Contingency table for outcomes\n",
    "\n",
    "col=['fully_funded','at_least_1_teacher_referred_donor','great_chat','at_least_1_green_donation'\n",
    "     ]\n",
    "pd.crosstab(raw_outcomes.is_exciting,\n",
    "            [raw_outcomes.fully_funded,raw_outcomes.at_least_1_teacher_referred_donor,raw_outcomes.great_chat,\n",
    "             raw_outcomes.at_least_1_green_donation\n",
    "            ],\n",
    "            colnames=col\n",
    "    )\n",
    "#at_least_1_teacher_referred_donor is the variable with more inmpact\n"
   ]
  },
  {
   "cell_type": "markdown",
   "metadata": {},
   "source": [
    "## Projects\n",
    "### Categorical Variables"
   ]
  },
  {
   "cell_type": "code",
   "execution_count": null,
   "metadata": {},
   "outputs": [],
   "source": []
  },
  {
   "cell_type": "code",
   "execution_count": 18,
   "metadata": {},
   "outputs": [],
   "source": [
    "#joining projects with oucomes and donations\n",
    "df_projects = raw_projects.join(raw_outcomes[['is_exciting','at_least_1_teacher_referred_donor','great_chat']], how ='left')"
   ]
  },
  {
   "cell_type": "code",
   "execution_count": 19,
   "metadata": {},
   "outputs": [],
   "source": [
    "df_projects=df_projects[df_projects.date_posted<'2014-01-01']\n"
   ]
  },
  {
   "cell_type": "markdown",
   "metadata": {},
   "source": [
    "get dummies for is_excting"
   ]
  },
  {
   "cell_type": "code",
   "execution_count": 20,
   "metadata": {},
   "outputs": [],
   "source": [
    "df_projects['exciting_project']= pd.get_dummies(df_projects.is_exciting,drop_first=True)"
   ]
  },
  {
   "cell_type": "markdown",
   "metadata": {},
   "source": [
    "### Schools"
   ]
  },
  {
   "cell_type": "code",
   "execution_count": 21,
   "metadata": {},
   "outputs": [
    {
     "data": {
      "text/plain": [
       "55296"
      ]
     },
     "execution_count": 21,
     "metadata": {},
     "output_type": "execute_result"
    }
   ],
   "source": [
    "# Number of schools in the dataset\n",
    "len(df_projects.schoolid.unique())"
   ]
  },
  {
   "cell_type": "code",
   "execution_count": 22,
   "metadata": {},
   "outputs": [
    {
     "data": {
      "text/plain": [
       "15924"
      ]
     },
     "execution_count": 22,
     "metadata": {},
     "output_type": "execute_result"
    }
   ],
   "source": [
    "##Schools with excting project\n",
    "len(df_projects[df_projects.is_exciting=='t'].schoolid.unique())"
   ]
  },
  {
   "cell_type": "code",
   "execution_count": 23,
   "metadata": {},
   "outputs": [
    {
     "data": {
      "text/plain": [
       "0.2879774305555556"
      ]
     },
     "execution_count": 23,
     "metadata": {},
     "output_type": "execute_result"
    }
   ],
   "source": [
    "#Percent of schools with exciting projects\n",
    "len(df_projects[df_projects.is_exciting=='t'].schoolid.unique())/len(df_projects.schoolid.unique())"
   ]
  },
  {
   "cell_type": "markdown",
   "metadata": {},
   "source": [
    "#### Serch for schools with at least one project as excting and insert flg_school_exchool_exciting on df"
   ]
  },
  {
   "cell_type": "code",
   "execution_count": null,
   "metadata": {},
   "outputs": [],
   "source": []
  },
  {
   "cell_type": "code",
   "execution_count": 24,
   "metadata": {},
   "outputs": [],
   "source": [
    "school_exciting =df_projects[df_projects.is_exciting=='t'].reset_index().groupby(by='schoolid').count()\n",
    "school_exciting['flg_school_exciting']=1\n",
    "school_exciting.rename(columns={'projectid': 'count_proj_school'}, inplace=True)\n",
    "df_projects = df_projects.join(school_exciting[['count_proj_school','flg_school_exciting']], how='left', on='schoolid')\n",
    "\n"
   ]
  },
  {
   "cell_type": "code",
   "execution_count": 25,
   "metadata": {},
   "outputs": [],
   "source": [
    "df_projects['count_proj_school'] = df_projects['count_proj_school'].fillna(0)\n",
    "df_projects['flg_school_exciting'] = df_projects['flg_school_exciting'].fillna(0)"
   ]
  },
  {
   "cell_type": "code",
   "execution_count": 26,
   "metadata": {},
   "outputs": [
    {
     "data": {
      "text/plain": [
       "flg_school_exciting\n",
       "0.00    39372\n",
       "1.00    15924\n",
       "Name: schoolid, dtype: int64"
      ]
     },
     "execution_count": 26,
     "metadata": {},
     "output_type": "execute_result"
    }
   ],
   "source": [
    "df_projects.groupby('flg_school_exciting').schoolid.nunique()"
   ]
  },
  {
   "cell_type": "code",
   "execution_count": 27,
   "metadata": {},
   "outputs": [
    {
     "data": {
      "text/plain": [
       "Text(0.5, 1.0, 'Schools with at least one exciting Project')"
      ]
     },
     "execution_count": 27,
     "metadata": {},
     "output_type": "execute_result"
    },
    {
     "data": {
      "image/png": "[encoded data removed]",
      "text/plain": [
       "<Figure size 432x288 with 1 Axes>"
      ]
     },
     "metadata": {
      "needs_background": "light"
     },
     "output_type": "display_data"
    }
   ],
   "source": [
    "\n",
    "df_projects.groupby('flg_school_exciting').schoolid.nunique().plot(kind='bar', stacked=True)\n",
    "\n",
    "plt.xlabel('Exciting Classifier')\n",
    "plt.xticks(rotation=0)\n",
    "plt.title('Schools with at least one exciting Project')"
   ]
  },
  {
   "cell_type": "markdown",
   "metadata": {},
   "source": [
    "Create a grouped dataframe for school"
   ]
  },
  {
   "cell_type": "code",
   "execution_count": 28,
   "metadata": {},
   "outputs": [],
   "source": [
    "##group categories of school\n",
    "\n",
    "group_school = df_projects[['schoolid', 'school_city', 'school_state', \n",
    "       'school_metro', 'school_district', 'school_county', 'school_charter',\n",
    "       'school_magnet', 'school_year_round', 'school_nlns', 'school_kipp',\n",
    "       'school_charter_ready_promise','poverty_level','flg_school_exciting']].groupby(by=['schoolid', 'school_city', 'school_state', \n",
    "       'school_metro', 'school_district', 'school_county', 'school_charter',\n",
    "       'school_magnet', 'school_year_round', 'school_nlns', 'school_kipp',\n",
    "       'school_charter_ready_promise','poverty_level'],dropna=False).max().reset_index()\n",
    "\n",
    "#group=df_projects[['schoolid','is_exciting']].groupby('schoolid').count()\n",
    "group_school.set_index('schoolid', inplace=True)"
   ]
  },
  {
   "cell_type": "code",
   "execution_count": 29,
   "metadata": {},
   "outputs": [
    {
     "data": {
      "text/html": [
       "<div>\n",
       "<style scoped>\n",
       "    .dataframe tbody tr th:only-of-type {\n",
       "        vertical-align: middle;\n",
       "    }\n",
       "\n",
       "    .dataframe tbody tr th {\n",
       "        vertical-align: top;\n",
       "    }\n",
       "\n",
       "    .dataframe thead th {\n",
       "        text-align: right;\n",
       "    }\n",
       "</style>\n",
       "<table border=\"1\" class=\"dataframe\">\n",
       "  <thead>\n",
       "    <tr style=\"text-align: right;\">\n",
       "      <th></th>\n",
       "      <th>school_city</th>\n",
       "      <th>school_state</th>\n",
       "      <th>school_metro</th>\n",
       "      <th>school_district</th>\n",
       "      <th>school_county</th>\n",
       "      <th>school_charter</th>\n",
       "      <th>school_magnet</th>\n",
       "      <th>school_year_round</th>\n",
       "      <th>school_nlns</th>\n",
       "      <th>school_kipp</th>\n",
       "      <th>school_charter_ready_promise</th>\n",
       "      <th>poverty_level</th>\n",
       "      <th>flg_school_exciting</th>\n",
       "    </tr>\n",
       "    <tr>\n",
       "      <th>schoolid</th>\n",
       "      <th></th>\n",
       "      <th></th>\n",
       "      <th></th>\n",
       "      <th></th>\n",
       "      <th></th>\n",
       "      <th></th>\n",
       "      <th></th>\n",
       "      <th></th>\n",
       "      <th></th>\n",
       "      <th></th>\n",
       "      <th></th>\n",
       "      <th></th>\n",
       "      <th></th>\n",
       "    </tr>\n",
       "  </thead>\n",
       "  <tbody>\n",
       "    <tr>\n",
       "      <th>0000a0030fbd97fe1a05441df1cc9751</th>\n",
       "      <td>Barnum</td>\n",
       "      <td>MN</td>\n",
       "      <td>rural</td>\n",
       "      <td>Barnum Ind School District 91</td>\n",
       "      <td>Carlton</td>\n",
       "      <td>f</td>\n",
       "      <td>f</td>\n",
       "      <td>f</td>\n",
       "      <td>f</td>\n",
       "      <td>f</td>\n",
       "      <td>f</td>\n",
       "      <td>high poverty</td>\n",
       "      <td>0.00</td>\n",
       "    </tr>\n",
       "    <tr>\n",
       "      <th>0000efec25428001c9dd83f651c5d181</th>\n",
       "      <td>Fabens</td>\n",
       "      <td>TX</td>\n",
       "      <td>NaN</td>\n",
       "      <td>Fabens Ind School District</td>\n",
       "      <td>El Paso</td>\n",
       "      <td>f</td>\n",
       "      <td>f</td>\n",
       "      <td>f</td>\n",
       "      <td>f</td>\n",
       "      <td>f</td>\n",
       "      <td>f</td>\n",
       "      <td>high poverty</td>\n",
       "      <td>0.00</td>\n",
       "    </tr>\n",
       "    <tr>\n",
       "      <th>00014d8717dd762910c815aceb2e5521</th>\n",
       "      <td>Garland</td>\n",
       "      <td>TX</td>\n",
       "      <td>suburban</td>\n",
       "      <td>Garland Ind School District</td>\n",
       "      <td>Dallas</td>\n",
       "      <td>f</td>\n",
       "      <td>f</td>\n",
       "      <td>f</td>\n",
       "      <td>f</td>\n",
       "      <td>f</td>\n",
       "      <td>f</td>\n",
       "      <td>highest poverty</td>\n",
       "      <td>0.00</td>\n",
       "    </tr>\n",
       "    <tr>\n",
       "      <th>000284c382d4503b4e5517aa780f55d0</th>\n",
       "      <td>Cincinnati</td>\n",
       "      <td>OH</td>\n",
       "      <td>suburban</td>\n",
       "      <td>West Clermont Local Sch Dist</td>\n",
       "      <td>Clermont</td>\n",
       "      <td>f</td>\n",
       "      <td>f</td>\n",
       "      <td>f</td>\n",
       "      <td>f</td>\n",
       "      <td>f</td>\n",
       "      <td>f</td>\n",
       "      <td>moderate poverty</td>\n",
       "      <td>0.00</td>\n",
       "    </tr>\n",
       "    <tr>\n",
       "      <th>00048c38df121d553b5a59cd0ecf71b2</th>\n",
       "      <td>Charlotte</td>\n",
       "      <td>NC</td>\n",
       "      <td>urban</td>\n",
       "      <td>Charlotte-mecklenburg Sch Dist</td>\n",
       "      <td>Mecklenburg</td>\n",
       "      <td>f</td>\n",
       "      <td>f</td>\n",
       "      <td>f</td>\n",
       "      <td>f</td>\n",
       "      <td>f</td>\n",
       "      <td>f</td>\n",
       "      <td>moderate poverty</td>\n",
       "      <td>0.00</td>\n",
       "    </tr>\n",
       "  </tbody>\n",
       "</table>\n",
       "</div>"
      ],
      "text/plain": [
       "                                 school_city school_state school_metro  \\\n",
       "schoolid                                                                 \n",
       "0000a0030fbd97fe1a05441df1cc9751      Barnum           MN        rural   \n",
       "0000efec25428001c9dd83f651c5d181      Fabens           TX          NaN   \n",
       "00014d8717dd762910c815aceb2e5521     Garland           TX     suburban   \n",
       "000284c382d4503b4e5517aa780f55d0  Cincinnati           OH     suburban   \n",
       "00048c38df121d553b5a59cd0ecf71b2   Charlotte           NC        urban   \n",
       "\n",
       "                                                 school_district  \\\n",
       "schoolid                                                           \n",
       "0000a0030fbd97fe1a05441df1cc9751   Barnum Ind School District 91   \n",
       "0000efec25428001c9dd83f651c5d181      Fabens Ind School District   \n",
       "00014d8717dd762910c815aceb2e5521     Garland Ind School District   \n",
       "000284c382d4503b4e5517aa780f55d0    West Clermont Local Sch Dist   \n",
       "00048c38df121d553b5a59cd0ecf71b2  Charlotte-mecklenburg Sch Dist   \n",
       "\n",
       "                                 school_county school_charter school_magnet  \\\n",
       "schoolid                                                                      \n",
       "0000a0030fbd97fe1a05441df1cc9751       Carlton              f             f   \n",
       "0000efec25428001c9dd83f651c5d181       El Paso              f             f   \n",
       "00014d8717dd762910c815aceb2e5521        Dallas              f             f   \n",
       "000284c382d4503b4e5517aa780f55d0      Clermont              f             f   \n",
       "00048c38df121d553b5a59cd0ecf71b2   Mecklenburg              f             f   \n",
       "\n",
       "                                 school_year_round school_nlns school_kipp  \\\n",
       "schoolid                                                                     \n",
       "0000a0030fbd97fe1a05441df1cc9751                 f           f           f   \n",
       "0000efec25428001c9dd83f651c5d181                 f           f           f   \n",
       "00014d8717dd762910c815aceb2e5521                 f           f           f   \n",
       "000284c382d4503b4e5517aa780f55d0                 f           f           f   \n",
       "00048c38df121d553b5a59cd0ecf71b2                 f           f           f   \n",
       "\n",
       "                                 school_charter_ready_promise  \\\n",
       "schoolid                                                        \n",
       "0000a0030fbd97fe1a05441df1cc9751                            f   \n",
       "0000efec25428001c9dd83f651c5d181                            f   \n",
       "00014d8717dd762910c815aceb2e5521                            f   \n",
       "000284c382d4503b4e5517aa780f55d0                            f   \n",
       "00048c38df121d553b5a59cd0ecf71b2                            f   \n",
       "\n",
       "                                     poverty_level  flg_school_exciting  \n",
       "schoolid                                                                 \n",
       "0000a0030fbd97fe1a05441df1cc9751      high poverty                 0.00  \n",
       "0000efec25428001c9dd83f651c5d181      high poverty                 0.00  \n",
       "00014d8717dd762910c815aceb2e5521   highest poverty                 0.00  \n",
       "000284c382d4503b4e5517aa780f55d0  moderate poverty                 0.00  \n",
       "00048c38df121d553b5a59cd0ecf71b2  moderate poverty                 0.00  "
      ]
     },
     "execution_count": 29,
     "metadata": {},
     "output_type": "execute_result"
    }
   ],
   "source": [
    "group_school.head()"
   ]
  },
  {
   "cell_type": "code",
   "execution_count": 30,
   "metadata": {},
   "outputs": [],
   "source": [
    "# group sum continuos variable\n",
    "\n",
    "group= df_projects[['schoolid','fulfillment_labor_materials',\n",
    "       'total_price_excluding_optional_support',\n",
    "       'total_price_including_optional_support', 'students_reached','exciting_project']].groupby(by='schoolid',dropna=False).sum()\n",
    "\n",
    "group_school = group_school.join(group, how='left')"
   ]
  },
  {
   "cell_type": "code",
   "execution_count": 31,
   "metadata": {},
   "outputs": [],
   "source": [
    "# group count of projects\n",
    "group_school['count_projects']=df_projects.reset_index()[['schoolid','projectid']].groupby(by='schoolid',dropna=False).count()['projectid']\n"
   ]
  },
  {
   "cell_type": "code",
   "execution_count": 32,
   "metadata": {},
   "outputs": [
    {
     "data": {
      "text/html": [
       "<div>\n",
       "<style scoped>\n",
       "    .dataframe tbody tr th:only-of-type {\n",
       "        vertical-align: middle;\n",
       "    }\n",
       "\n",
       "    .dataframe tbody tr th {\n",
       "        vertical-align: top;\n",
       "    }\n",
       "\n",
       "    .dataframe thead th {\n",
       "        text-align: right;\n",
       "    }\n",
       "</style>\n",
       "<table border=\"1\" class=\"dataframe\">\n",
       "  <thead>\n",
       "    <tr style=\"text-align: right;\">\n",
       "      <th></th>\n",
       "      <th>flg_school_exciting</th>\n",
       "      <th>fulfillment_labor_materials</th>\n",
       "      <th>total_price_excluding_optional_support</th>\n",
       "      <th>total_price_including_optional_support</th>\n",
       "      <th>students_reached</th>\n",
       "      <th>exciting_project</th>\n",
       "      <th>count_projects</th>\n",
       "    </tr>\n",
       "  </thead>\n",
       "  <tbody>\n",
       "    <tr>\n",
       "      <th>count</th>\n",
       "      <td>55296.00</td>\n",
       "      <td>55296.00</td>\n",
       "      <td>55296.00</td>\n",
       "      <td>55296.00</td>\n",
       "      <td>55296.00</td>\n",
       "      <td>55296.00</td>\n",
       "      <td>55296.00</td>\n",
       "    </tr>\n",
       "    <tr>\n",
       "      <th>mean</th>\n",
       "      <td>0.29</td>\n",
       "      <td>288.49</td>\n",
       "      <td>6003.10</td>\n",
       "      <td>7146.74</td>\n",
       "      <td>1091.09</td>\n",
       "      <td>0.66</td>\n",
       "      <td>11.20</td>\n",
       "    </tr>\n",
       "    <tr>\n",
       "      <th>std</th>\n",
       "      <td>0.45</td>\n",
       "      <td>650.83</td>\n",
       "      <td>45981.77</td>\n",
       "      <td>55962.83</td>\n",
       "      <td>8460.63</td>\n",
       "      <td>1.85</td>\n",
       "      <td>25.39</td>\n",
       "    </tr>\n",
       "    <tr>\n",
       "      <th>min</th>\n",
       "      <td>0.00</td>\n",
       "      <td>0.00</td>\n",
       "      <td>0.00</td>\n",
       "      <td>0.00</td>\n",
       "      <td>0.00</td>\n",
       "      <td>0.00</td>\n",
       "      <td>1.00</td>\n",
       "    </tr>\n",
       "    <tr>\n",
       "      <th>25%</th>\n",
       "      <td>0.00</td>\n",
       "      <td>35.00</td>\n",
       "      <td>726.42</td>\n",
       "      <td>861.60</td>\n",
       "      <td>80.00</td>\n",
       "      <td>0.00</td>\n",
       "      <td>2.00</td>\n",
       "    </tr>\n",
       "    <tr>\n",
       "      <th>50%</th>\n",
       "      <td>0.00</td>\n",
       "      <td>95.00</td>\n",
       "      <td>1763.95</td>\n",
       "      <td>2094.43</td>\n",
       "      <td>272.00</td>\n",
       "      <td>0.00</td>\n",
       "      <td>4.00</td>\n",
       "    </tr>\n",
       "    <tr>\n",
       "      <th>75%</th>\n",
       "      <td>1.00</td>\n",
       "      <td>261.00</td>\n",
       "      <td>5166.32</td>\n",
       "      <td>6144.23</td>\n",
       "      <td>916.00</td>\n",
       "      <td>1.00</td>\n",
       "      <td>10.00</td>\n",
       "    </tr>\n",
       "    <tr>\n",
       "      <th>max</th>\n",
       "      <td>1.00</td>\n",
       "      <td>21749.00</td>\n",
       "      <td>10263500.70</td>\n",
       "      <td>12516464.30</td>\n",
       "      <td>1005015.00</td>\n",
       "      <td>52.00</td>\n",
       "      <td>902.00</td>\n",
       "    </tr>\n",
       "  </tbody>\n",
       "</table>\n",
       "</div>"
      ],
      "text/plain": [
       "       flg_school_exciting  fulfillment_labor_materials  \\\n",
       "count             55296.00                     55296.00   \n",
       "mean                  0.29                       288.49   \n",
       "std                   0.45                       650.83   \n",
       "min                   0.00                         0.00   \n",
       "25%                   0.00                        35.00   \n",
       "50%                   0.00                        95.00   \n",
       "75%                   1.00                       261.00   \n",
       "max                   1.00                     21749.00   \n",
       "\n",
       "       total_price_excluding_optional_support  \\\n",
       "count                                55296.00   \n",
       "mean                                  6003.10   \n",
       "std                                  45981.77   \n",
       "min                                      0.00   \n",
       "25%                                    726.42   \n",
       "50%                                   1763.95   \n",
       "75%                                   5166.32   \n",
       "max                               10263500.70   \n",
       "\n",
       "       total_price_including_optional_support  students_reached  \\\n",
       "count                                55296.00          55296.00   \n",
       "mean                                  7146.74           1091.09   \n",
       "std                                  55962.83           8460.63   \n",
       "min                                      0.00              0.00   \n",
       "25%                                    861.60             80.00   \n",
       "50%                                   2094.43            272.00   \n",
       "75%                                   6144.23            916.00   \n",
       "max                               12516464.30        1005015.00   \n",
       "\n",
       "       exciting_project  count_projects  \n",
       "count          55296.00        55296.00  \n",
       "mean               0.66           11.20  \n",
       "std                1.85           25.39  \n",
       "min                0.00            1.00  \n",
       "25%                0.00            2.00  \n",
       "50%                0.00            4.00  \n",
       "75%                1.00           10.00  \n",
       "max               52.00          902.00  "
      ]
     },
     "execution_count": 32,
     "metadata": {},
     "output_type": "execute_result"
    }
   ],
   "source": [
    "group_school.describe()"
   ]
  },
  {
   "cell_type": "code",
   "execution_count": null,
   "metadata": {},
   "outputs": [],
   "source": []
  },
  {
   "cell_type": "code",
   "execution_count": 33,
   "metadata": {},
   "outputs": [
    {
     "name": "stderr",
     "output_type": "stream",
     "text": [
      "C:\\ProgramData\\Anaconda3\\lib\\site-packages\\seaborn\\distributions.py:2164: UserWarning: `displot` is a figure-level function and does not accept the ax= paramter. You may wish to try histplot.\n",
      "  warnings.warn(msg, UserWarning)\n"
     ]
    },
    {
     "data": {
      "text/plain": [
       "(0.0, 100.0)"
      ]
     },
     "execution_count": 33,
     "metadata": {},
     "output_type": "execute_result"
    },
    {
     "data": {
      "image/png": "[encoded data removed]",
      "text/plain": [
       "<Figure size 595.44x595.44 with 1 Axes>"
      ]
     },
     "metadata": {
      "needs_background": "light"
     },
     "output_type": "display_data"
    }
   ],
   "source": [
    "sns.displot(group_school[group_school.flg_school_exciting==1]['exciting_project'],bins=100,kde=False, \n",
    "            height=8.27, ax=ax)\n",
    "plt.xlim(0, 100)"
   ]
  },
  {
   "cell_type": "code",
   "execution_count": null,
   "metadata": {},
   "outputs": [],
   "source": []
  },
  {
   "cell_type": "code",
   "execution_count": null,
   "metadata": {},
   "outputs": [],
   "source": []
  },
  {
   "cell_type": "code",
   "execution_count": null,
   "metadata": {},
   "outputs": [],
   "source": []
  },
  {
   "cell_type": "markdown",
   "metadata": {},
   "source": [
    "Chi square for categorical with school"
   ]
  },
  {
   "cell_type": "code",
   "execution_count": 34,
   "metadata": {},
   "outputs": [
    {
     "data": {
      "text/html": [
       "<div>\n",
       "<style scoped>\n",
       "    .dataframe tbody tr th:only-of-type {\n",
       "        vertical-align: middle;\n",
       "    }\n",
       "\n",
       "    .dataframe tbody tr th {\n",
       "        vertical-align: top;\n",
       "    }\n",
       "\n",
       "    .dataframe thead th {\n",
       "        text-align: right;\n",
       "    }\n",
       "</style>\n",
       "<table border=\"1\" class=\"dataframe\">\n",
       "  <thead>\n",
       "    <tr style=\"text-align: right;\">\n",
       "      <th></th>\n",
       "      <th>cols</th>\n",
       "      <th>chi2</th>\n",
       "      <th>pval</th>\n",
       "      <th>dof</th>\n",
       "      <th>critical value</th>\n",
       "      <th>flg_critical</th>\n",
       "      <th>flg_pval</th>\n",
       "      <th>cramer_test</th>\n",
       "    </tr>\n",
       "  </thead>\n",
       "  <tbody>\n",
       "    <tr>\n",
       "      <th>0</th>\n",
       "      <td>school_city</td>\n",
       "      <td>11597.07</td>\n",
       "      <td>0.00</td>\n",
       "      <td>8832</td>\n",
       "      <td>9178.10</td>\n",
       "      <td>True</td>\n",
       "      <td>True</td>\n",
       "      <td>0.00</td>\n",
       "    </tr>\n",
       "    <tr>\n",
       "      <th>1</th>\n",
       "      <td>school_state</td>\n",
       "      <td>1166.00</td>\n",
       "      <td>0.00</td>\n",
       "      <td>51</td>\n",
       "      <td>80.75</td>\n",
       "      <td>True</td>\n",
       "      <td>True</td>\n",
       "      <td>0.01</td>\n",
       "    </tr>\n",
       "    <tr>\n",
       "      <th>2</th>\n",
       "      <td>school_metro</td>\n",
       "      <td>1736.31</td>\n",
       "      <td>0.00</td>\n",
       "      <td>2</td>\n",
       "      <td>10.60</td>\n",
       "      <td>True</td>\n",
       "      <td>True</td>\n",
       "      <td>0.05</td>\n",
       "    </tr>\n",
       "    <tr>\n",
       "      <th>3</th>\n",
       "      <td>school_district</td>\n",
       "      <td>12382.96</td>\n",
       "      <td>0.00</td>\n",
       "      <td>9042</td>\n",
       "      <td>9392.14</td>\n",
       "      <td>True</td>\n",
       "      <td>True</td>\n",
       "      <td>0.00</td>\n",
       "    </tr>\n",
       "    <tr>\n",
       "      <th>4</th>\n",
       "      <td>school_county</td>\n",
       "      <td>5411.75</td>\n",
       "      <td>0.00</td>\n",
       "      <td>1688</td>\n",
       "      <td>1841.42</td>\n",
       "      <td>True</td>\n",
       "      <td>True</td>\n",
       "      <td>0.00</td>\n",
       "    </tr>\n",
       "    <tr>\n",
       "      <th>5</th>\n",
       "      <td>school_charter</td>\n",
       "      <td>440.07</td>\n",
       "      <td>0.00</td>\n",
       "      <td>1</td>\n",
       "      <td>7.88</td>\n",
       "      <td>True</td>\n",
       "      <td>True</td>\n",
       "      <td>0.04</td>\n",
       "    </tr>\n",
       "    <tr>\n",
       "      <th>6</th>\n",
       "      <td>school_magnet</td>\n",
       "      <td>170.25</td>\n",
       "      <td>0.00</td>\n",
       "      <td>1</td>\n",
       "      <td>7.88</td>\n",
       "      <td>True</td>\n",
       "      <td>True</td>\n",
       "      <td>0.02</td>\n",
       "    </tr>\n",
       "    <tr>\n",
       "      <th>7</th>\n",
       "      <td>school_year_round</td>\n",
       "      <td>7.74</td>\n",
       "      <td>0.01</td>\n",
       "      <td>1</td>\n",
       "      <td>7.88</td>\n",
       "      <td>False</td>\n",
       "      <td>True</td>\n",
       "      <td>0.01</td>\n",
       "    </tr>\n",
       "    <tr>\n",
       "      <th>8</th>\n",
       "      <td>school_nlns</td>\n",
       "      <td>127.40</td>\n",
       "      <td>0.00</td>\n",
       "      <td>1</td>\n",
       "      <td>7.88</td>\n",
       "      <td>True</td>\n",
       "      <td>True</td>\n",
       "      <td>0.02</td>\n",
       "    </tr>\n",
       "    <tr>\n",
       "      <th>9</th>\n",
       "      <td>school_kipp</td>\n",
       "      <td>153.45</td>\n",
       "      <td>0.00</td>\n",
       "      <td>1</td>\n",
       "      <td>7.88</td>\n",
       "      <td>True</td>\n",
       "      <td>True</td>\n",
       "      <td>0.02</td>\n",
       "    </tr>\n",
       "    <tr>\n",
       "      <th>10</th>\n",
       "      <td>school_charter_ready_promise</td>\n",
       "      <td>105.45</td>\n",
       "      <td>0.00</td>\n",
       "      <td>1</td>\n",
       "      <td>7.88</td>\n",
       "      <td>True</td>\n",
       "      <td>True</td>\n",
       "      <td>0.02</td>\n",
       "    </tr>\n",
       "    <tr>\n",
       "      <th>11</th>\n",
       "      <td>poverty_level</td>\n",
       "      <td>974.32</td>\n",
       "      <td>0.00</td>\n",
       "      <td>3</td>\n",
       "      <td>12.84</td>\n",
       "      <td>True</td>\n",
       "      <td>True</td>\n",
       "      <td>0.03</td>\n",
       "    </tr>\n",
       "  </tbody>\n",
       "</table>\n",
       "</div>"
      ],
      "text/plain": [
       "                            cols     chi2  pval   dof  critical value  \\\n",
       "0                    school_city 11597.07  0.00  8832         9178.10   \n",
       "1                   school_state  1166.00  0.00    51           80.75   \n",
       "2                   school_metro  1736.31  0.00     2           10.60   \n",
       "3                school_district 12382.96  0.00  9042         9392.14   \n",
       "4                  school_county  5411.75  0.00  1688         1841.42   \n",
       "5                 school_charter   440.07  0.00     1            7.88   \n",
       "6                  school_magnet   170.25  0.00     1            7.88   \n",
       "7              school_year_round     7.74  0.01     1            7.88   \n",
       "8                    school_nlns   127.40  0.00     1            7.88   \n",
       "9                    school_kipp   153.45  0.00     1            7.88   \n",
       "10  school_charter_ready_promise   105.45  0.00     1            7.88   \n",
       "11                 poverty_level   974.32  0.00     3           12.84   \n",
       "\n",
       "    flg_critical  flg_pval  cramer_test  \n",
       "0           True      True         0.00  \n",
       "1           True      True         0.01  \n",
       "2           True      True         0.05  \n",
       "3           True      True         0.00  \n",
       "4           True      True         0.00  \n",
       "5           True      True         0.04  \n",
       "6           True      True         0.02  \n",
       "7          False      True         0.01  \n",
       "8           True      True         0.02  \n",
       "9           True      True         0.02  \n",
       "10          True      True         0.02  \n",
       "11          True      True         0.03  "
      ]
     },
     "execution_count": 34,
     "metadata": {},
     "output_type": "execute_result"
    }
   ],
   "source": [
    "cols =['school_city', 'school_state', 'school_metro', 'school_district',\n",
    "       'school_county', 'school_charter', 'school_magnet', 'school_year_round',\n",
    "       'school_nlns', 'school_kipp', 'school_charter_ready_promise','poverty_level'\n",
    "      ]\n",
    "\n",
    "##creating df for chi square\n",
    "\n",
    "df_chi_square=pd.DataFrame()\n",
    "chi=[]\n",
    "pval=[]\n",
    "dof=[]\n",
    "critical_value=[]\n",
    "cramer_test=[]\n",
    "\n",
    "## Critical value table for chi square\n",
    "\n",
    "significance = 0.005\n",
    "p = 1 - significance\n",
    "\n",
    "\n",
    "for col in cols:\n",
    "    contingency_table = pd.crosstab(group_school.flg_school_exciting,group_school[col])\n",
    "    chi_x, pval_x, dof_x, exp_x = chi2_contingency(contingency_table)\n",
    "    chi.append(chi_x)\n",
    "    pval.append(pval_x)\n",
    "    dof.append(dof_x)\n",
    "    critical_value_x = chi2.ppf(p, dof_x)\n",
    "    critical_value.append(critical_value_x)\n",
    "    n=len(df_projects.dropna()) ### number on the sample\n",
    "    cramer_test_x= np.sqrt(chi_x/(n*dof_x)) ##cramer's V test formula\n",
    "    cramer_test.append(round(cramer_test_x,2))\n",
    "\n",
    "df_chi_square['cols']=cols\n",
    "df_chi_square['chi2']=chi\n",
    "df_chi_square['pval']=pval\n",
    "df_chi_square['dof']=dof\n",
    "df_chi_square['critical value']=critical_value\n",
    "df_chi_square['flg_critical']=df_chi_square['chi2']>df_chi_square['critical value']\n",
    "df_chi_square['flg_pval'] =df_chi_square['pval']<0.05\n",
    "df_chi_square['cramer_test']=cramer_test\n",
    "df_chi_square"
   ]
  },
  {
   "cell_type": "code",
   "execution_count": 35,
   "metadata": {},
   "outputs": [
    {
     "data": {
      "text/plain": [
       "Text(0.5, 1.0, 'Count Schools')"
      ]
     },
     "execution_count": 35,
     "metadata": {},
     "output_type": "execute_result"
    },
    {
     "data": {
      "image/png": "[encoded data removed]",
      "text/plain": [
       "<Figure size 432x288 with 1 Axes>"
      ]
     },
     "metadata": {
      "needs_background": "light"
     },
     "output_type": "display_data"
    }
   ],
   "source": [
    "sns.countplot(x='school_metro',data=group_school, order=group_school.school_metro.dropna().unique())\n",
    "plt.title('Count Schools')"
   ]
  },
  {
   "cell_type": "code",
   "execution_count": 36,
   "metadata": {},
   "outputs": [
    {
     "data": {
      "text/plain": [
       "Text(0.5, 1.0, 'Count Schools with exciting projects')"
      ]
     },
     "execution_count": 36,
     "metadata": {},
     "output_type": "execute_result"
    },
    {
     "data": {
      "image/png": "[encoded data removed]",
      "text/plain": [
       "<Figure size 432x288 with 1 Axes>"
      ]
     },
     "metadata": {
      "needs_background": "light"
     },
     "output_type": "display_data"
    }
   ],
   "source": [
    "sns.countplot(x='school_metro',data=group_school[group_school.exciting_project==1], \n",
    "              order=group_school.school_metro.dropna().unique())\n",
    "plt.title('Count Schools with exciting projects')"
   ]
  },
  {
   "cell_type": "code",
   "execution_count": null,
   "metadata": {},
   "outputs": [],
   "source": []
  },
  {
   "cell_type": "code",
   "execution_count": null,
   "metadata": {},
   "outputs": [],
   "source": []
  },
  {
   "cell_type": "code",
   "execution_count": null,
   "metadata": {},
   "outputs": [],
   "source": []
  },
  {
   "cell_type": "code",
   "execution_count": null,
   "metadata": {},
   "outputs": [],
   "source": []
  },
  {
   "cell_type": "code",
   "execution_count": 37,
   "metadata": {},
   "outputs": [
    {
     "data": {
      "text/html": [
       "<div>\n",
       "<style scoped>\n",
       "    .dataframe tbody tr th:only-of-type {\n",
       "        vertical-align: middle;\n",
       "    }\n",
       "\n",
       "    .dataframe tbody tr th {\n",
       "        vertical-align: top;\n",
       "    }\n",
       "\n",
       "    .dataframe thead th {\n",
       "        text-align: right;\n",
       "    }\n",
       "</style>\n",
       "<table border=\"1\" class=\"dataframe\">\n",
       "  <thead>\n",
       "    <tr style=\"text-align: right;\">\n",
       "      <th></th>\n",
       "      <th>total_price_excluding_optional_support</th>\n",
       "      <th>total_price_including_optional_support</th>\n",
       "      <th>students_reached</th>\n",
       "      <th>count_projects</th>\n",
       "      <th>exciting_project</th>\n",
       "      <th>flg_school_exciting</th>\n",
       "    </tr>\n",
       "  </thead>\n",
       "  <tbody>\n",
       "    <tr>\n",
       "      <th>total_price_excluding_optional_support</th>\n",
       "      <td>1.00</td>\n",
       "      <td>1.00</td>\n",
       "      <td>0.08</td>\n",
       "      <td>0.28</td>\n",
       "      <td>0.17</td>\n",
       "      <td>0.09</td>\n",
       "    </tr>\n",
       "    <tr>\n",
       "      <th>total_price_including_optional_support</th>\n",
       "      <td>1.00</td>\n",
       "      <td>1.00</td>\n",
       "      <td>0.08</td>\n",
       "      <td>0.27</td>\n",
       "      <td>0.17</td>\n",
       "      <td>0.09</td>\n",
       "    </tr>\n",
       "    <tr>\n",
       "      <th>students_reached</th>\n",
       "      <td>0.08</td>\n",
       "      <td>0.08</td>\n",
       "      <td>1.00</td>\n",
       "      <td>0.25</td>\n",
       "      <td>0.16</td>\n",
       "      <td>0.09</td>\n",
       "    </tr>\n",
       "    <tr>\n",
       "      <th>count_projects</th>\n",
       "      <td>0.28</td>\n",
       "      <td>0.27</td>\n",
       "      <td>0.25</td>\n",
       "      <td>1.00</td>\n",
       "      <td>0.62</td>\n",
       "      <td>0.34</td>\n",
       "    </tr>\n",
       "    <tr>\n",
       "      <th>exciting_project</th>\n",
       "      <td>0.17</td>\n",
       "      <td>0.17</td>\n",
       "      <td>0.16</td>\n",
       "      <td>0.62</td>\n",
       "      <td>1.00</td>\n",
       "      <td>0.56</td>\n",
       "    </tr>\n",
       "    <tr>\n",
       "      <th>flg_school_exciting</th>\n",
       "      <td>0.09</td>\n",
       "      <td>0.09</td>\n",
       "      <td>0.09</td>\n",
       "      <td>0.34</td>\n",
       "      <td>0.56</td>\n",
       "      <td>1.00</td>\n",
       "    </tr>\n",
       "  </tbody>\n",
       "</table>\n",
       "</div>"
      ],
      "text/plain": [
       "                                        total_price_excluding_optional_support  \\\n",
       "total_price_excluding_optional_support                                    1.00   \n",
       "total_price_including_optional_support                                    1.00   \n",
       "students_reached                                                          0.08   \n",
       "count_projects                                                            0.28   \n",
       "exciting_project                                                          0.17   \n",
       "flg_school_exciting                                                       0.09   \n",
       "\n",
       "                                        total_price_including_optional_support  \\\n",
       "total_price_excluding_optional_support                                    1.00   \n",
       "total_price_including_optional_support                                    1.00   \n",
       "students_reached                                                          0.08   \n",
       "count_projects                                                            0.27   \n",
       "exciting_project                                                          0.17   \n",
       "flg_school_exciting                                                       0.09   \n",
       "\n",
       "                                        students_reached  count_projects  \\\n",
       "total_price_excluding_optional_support              0.08            0.28   \n",
       "total_price_including_optional_support              0.08            0.27   \n",
       "students_reached                                    1.00            0.25   \n",
       "count_projects                                      0.25            1.00   \n",
       "exciting_project                                    0.16            0.62   \n",
       "flg_school_exciting                                 0.09            0.34   \n",
       "\n",
       "                                        exciting_project  flg_school_exciting  \n",
       "total_price_excluding_optional_support              0.17                 0.09  \n",
       "total_price_including_optional_support              0.17                 0.09  \n",
       "students_reached                                    0.16                 0.09  \n",
       "count_projects                                      0.62                 0.34  \n",
       "exciting_project                                    1.00                 0.56  \n",
       "flg_school_exciting                                 0.56                 1.00  "
      ]
     },
     "execution_count": 37,
     "metadata": {},
     "output_type": "execute_result"
    }
   ],
   "source": [
    "corrmat = group_school[[\n",
    "       'total_price_excluding_optional_support',\n",
    "       'total_price_including_optional_support', 'students_reached',\n",
    "        'count_projects','exciting_project','flg_school_exciting']].corr()\n",
    "corrmat\n"
   ]
  },
  {
   "cell_type": "code",
   "execution_count": 38,
   "metadata": {},
   "outputs": [
    {
     "data": {
      "text/plain": [
       "<AxesSubplot:>"
      ]
     },
     "execution_count": 38,
     "metadata": {},
     "output_type": "execute_result"
    },
    {
     "data": {
      "image/png": "[encoded data removed]",
      "text/plain": [
       "<Figure size 864x648 with 2 Axes>"
      ]
     },
     "metadata": {
      "needs_background": "light"
     },
     "output_type": "display_data"
    }
   ],
   "source": [
    "f, ax = plt.subplots(figsize=(12, 9))\n",
    "\n",
    "sns.heatmap(corrmat,cmap='RdYlGn',fmt='.2f',annot=True,)"
   ]
  },
  {
   "cell_type": "markdown",
   "metadata": {},
   "source": [
    "### Teachers correlations"
   ]
  },
  {
   "cell_type": "code",
   "execution_count": 39,
   "metadata": {},
   "outputs": [
    {
     "data": {
      "text/plain": [
       "236289"
      ]
     },
     "execution_count": 39,
     "metadata": {},
     "output_type": "execute_result"
    }
   ],
   "source": [
    "# Number of teachers on the dataset\n",
    "len(df_projects.teacher_acctid.unique())"
   ]
  },
  {
   "cell_type": "code",
   "execution_count": 40,
   "metadata": {},
   "outputs": [
    {
     "data": {
      "text/plain": [
       "28040"
      ]
     },
     "execution_count": 40,
     "metadata": {},
     "output_type": "execute_result"
    }
   ],
   "source": [
    "##Teachers with excting project\n",
    "len(df_projects[df_projects.is_exciting=='t'].teacher_acctid.unique())"
   ]
  },
  {
   "cell_type": "code",
   "execution_count": 41,
   "metadata": {},
   "outputs": [
    {
     "data": {
      "text/plain": [
       "0.11866824100994967"
      ]
     },
     "execution_count": 41,
     "metadata": {},
     "output_type": "execute_result"
    }
   ],
   "source": [
    "len(df_projects[df_projects.is_exciting=='t'].teacher_acctid.unique())/len(df_projects.teacher_acctid.unique())"
   ]
  },
  {
   "cell_type": "code",
   "execution_count": null,
   "metadata": {},
   "outputs": [],
   "source": []
  },
  {
   "cell_type": "markdown",
   "metadata": {},
   "source": [
    "Serch for teachers with at least one project as excting and insert flg_teacher_exciting on df"
   ]
  },
  {
   "cell_type": "code",
   "execution_count": 42,
   "metadata": {},
   "outputs": [],
   "source": [
    "exciting_teacher =df_projects[df_projects.is_exciting=='t'].reset_index().groupby(by='teacher_acctid').count()\n",
    "exciting_teacher['flg_teacher_exciting']=1\n",
    "exciting_teacher.rename(columns={'projectid': 'count_proj_teacher'}, inplace=True)\n",
    "df_projects = df_projects.join(exciting_teacher[['count_proj_teacher','flg_teacher_exciting']], how='left', on='teacher_acctid')\n"
   ]
  },
  {
   "cell_type": "code",
   "execution_count": 43,
   "metadata": {},
   "outputs": [],
   "source": [
    "df_projects['count_proj_teacher'] = df_projects['count_proj_teacher'].fillna(0)\n",
    "df_projects['flg_teacher_exciting'] = df_projects['flg_teacher_exciting'].fillna(0)"
   ]
  },
  {
   "cell_type": "code",
   "execution_count": 44,
   "metadata": {},
   "outputs": [
    {
     "data": {
      "text/plain": [
       "flg_teacher_exciting\n",
       "0.00    208249\n",
       "1.00     28040\n",
       "Name: teacher_acctid, dtype: int64"
      ]
     },
     "execution_count": 44,
     "metadata": {},
     "output_type": "execute_result"
    }
   ],
   "source": [
    "df_projects.groupby('flg_teacher_exciting').teacher_acctid.nunique()"
   ]
  },
  {
   "cell_type": "code",
   "execution_count": 45,
   "metadata": {},
   "outputs": [
    {
     "data": {
      "text/plain": [
       "Text(0.5, 1.0, 'Teachers with at least one exciting Project')"
      ]
     },
     "execution_count": 45,
     "metadata": {},
     "output_type": "execute_result"
    },
    {
     "data": {
      "image/png": "[encoded data removed]",
      "text/plain": [
       "<Figure size 432x288 with 1 Axes>"
      ]
     },
     "metadata": {
      "needs_background": "light"
     },
     "output_type": "display_data"
    }
   ],
   "source": [
    "\n",
    "df_projects.groupby('flg_teacher_exciting').teacher_acctid.nunique().plot(kind='bar', stacked=True)\n",
    "plt.xlabel('Exciting Classifier')\n",
    "plt.xticks(rotation=0)\n",
    "plt.title('Teachers with at least one exciting Project')"
   ]
  },
  {
   "cell_type": "code",
   "execution_count": null,
   "metadata": {},
   "outputs": [],
   "source": []
  },
  {
   "cell_type": "code",
   "execution_count": 46,
   "metadata": {},
   "outputs": [],
   "source": [
    "##group categories of techers\n",
    "\n",
    "group_teacher = df_projects[['teacher_acctid', 'teacher_prefix', 'teacher_teach_for_america', \n",
    "       'teacher_ny_teaching_fellow','poverty_level','flg_teacher_exciting']].groupby(by=['teacher_acctid', 'teacher_prefix', 'teacher_teach_for_america', \n",
    "       'teacher_ny_teaching_fellow','poverty_level'],dropna=False).max().reset_index()\n",
    "\n",
    "#group=df_projects[['schoolid','is_exciting']].groupby('schoolid').count()\n",
    "group_teacher.set_index('teacher_acctid', inplace=True)"
   ]
  },
  {
   "cell_type": "code",
   "execution_count": null,
   "metadata": {},
   "outputs": [],
   "source": []
  },
  {
   "cell_type": "code",
   "execution_count": 47,
   "metadata": {},
   "outputs": [],
   "source": [
    "# group sum continuos variable\n",
    "\n",
    "group= df_projects[['teacher_acctid', 'students_reached','exciting_project']].groupby(by='teacher_acctid',dropna=False).sum()\n",
    "\n",
    "group_teacher = group_teacher.join(group, how='left')"
   ]
  },
  {
   "cell_type": "code",
   "execution_count": 48,
   "metadata": {},
   "outputs": [],
   "source": [
    "# group count of projects\n",
    "group_teacher['count_projects']=df_projects.reset_index()[['teacher_acctid','projectid']].groupby(by='teacher_acctid',dropna=False).count()['projectid']\n"
   ]
  },
  {
   "cell_type": "markdown",
   "metadata": {},
   "source": [
    "### Correlation for categorical variables for teachers"
   ]
  },
  {
   "cell_type": "code",
   "execution_count": 49,
   "metadata": {},
   "outputs": [
    {
     "data": {
      "text/html": [
       "<div>\n",
       "<style scoped>\n",
       "    .dataframe tbody tr th:only-of-type {\n",
       "        vertical-align: middle;\n",
       "    }\n",
       "\n",
       "    .dataframe tbody tr th {\n",
       "        vertical-align: top;\n",
       "    }\n",
       "\n",
       "    .dataframe thead th {\n",
       "        text-align: right;\n",
       "    }\n",
       "</style>\n",
       "<table border=\"1\" class=\"dataframe\">\n",
       "  <thead>\n",
       "    <tr style=\"text-align: right;\">\n",
       "      <th></th>\n",
       "      <th>cols</th>\n",
       "      <th>chi2</th>\n",
       "      <th>pval</th>\n",
       "      <th>dof</th>\n",
       "      <th>critical value</th>\n",
       "      <th>flg_critical</th>\n",
       "      <th>flg_pval</th>\n",
       "      <th>cramer_test</th>\n",
       "    </tr>\n",
       "  </thead>\n",
       "  <tbody>\n",
       "    <tr>\n",
       "      <th>0</th>\n",
       "      <td>teacher_prefix</td>\n",
       "      <td>678.18</td>\n",
       "      <td>0.00</td>\n",
       "      <td>4</td>\n",
       "      <td>14.86</td>\n",
       "      <td>True</td>\n",
       "      <td>True</td>\n",
       "      <td>0.02</td>\n",
       "    </tr>\n",
       "    <tr>\n",
       "      <th>1</th>\n",
       "      <td>teacher_teach_for_america</td>\n",
       "      <td>1720.80</td>\n",
       "      <td>0.00</td>\n",
       "      <td>1</td>\n",
       "      <td>7.88</td>\n",
       "      <td>True</td>\n",
       "      <td>True</td>\n",
       "      <td>0.08</td>\n",
       "    </tr>\n",
       "    <tr>\n",
       "      <th>2</th>\n",
       "      <td>teacher_ny_teaching_fellow</td>\n",
       "      <td>7.12</td>\n",
       "      <td>0.01</td>\n",
       "      <td>1</td>\n",
       "      <td>7.88</td>\n",
       "      <td>False</td>\n",
       "      <td>True</td>\n",
       "      <td>0.00</td>\n",
       "    </tr>\n",
       "    <tr>\n",
       "      <th>3</th>\n",
       "      <td>poverty_level</td>\n",
       "      <td>230.28</td>\n",
       "      <td>0.00</td>\n",
       "      <td>3</td>\n",
       "      <td>12.84</td>\n",
       "      <td>True</td>\n",
       "      <td>True</td>\n",
       "      <td>0.02</td>\n",
       "    </tr>\n",
       "  </tbody>\n",
       "</table>\n",
       "</div>"
      ],
      "text/plain": [
       "                         cols    chi2  pval  dof  critical value  \\\n",
       "0              teacher_prefix  678.18  0.00    4           14.86   \n",
       "1   teacher_teach_for_america 1720.80  0.00    1            7.88   \n",
       "2  teacher_ny_teaching_fellow    7.12  0.01    1            7.88   \n",
       "3               poverty_level  230.28  0.00    3           12.84   \n",
       "\n",
       "   flg_critical  flg_pval  cramer_test  \n",
       "0          True      True         0.02  \n",
       "1          True      True         0.08  \n",
       "2         False      True         0.00  \n",
       "3          True      True         0.02  "
      ]
     },
     "execution_count": 49,
     "metadata": {},
     "output_type": "execute_result"
    }
   ],
   "source": [
    "cols =['teacher_prefix', 'teacher_teach_for_america', \n",
    "       'teacher_ny_teaching_fellow','poverty_level']\n",
    "                                                                     \n",
    "##creating df for chi square\n",
    "\n",
    "df_chi_square=pd.DataFrame()\n",
    "chi=[]\n",
    "pval=[]\n",
    "dof=[]\n",
    "critical_value=[]\n",
    "cramer_test=[]\n",
    "\n",
    "## Critical value table for chi square\n",
    "\n",
    "significance = 0.005\n",
    "p = 1 - significance\n",
    "\n",
    "\n",
    "for col in cols:\n",
    "    contingency_table = pd.crosstab(group_teacher.flg_teacher_exciting,group_teacher[col])\n",
    "    chi_x, pval_x, dof_x, exp_x = chi2_contingency(contingency_table)\n",
    "    chi.append(chi_x)\n",
    "    pval.append(pval_x)\n",
    "    dof.append(dof_x)\n",
    "    critical_value_x = chi2.ppf(p, dof_x)\n",
    "    critical_value.append(critical_value_x)\n",
    "    n=len(df_projects.dropna()) ### number on the sample\n",
    "    cramer_test_x= np.sqrt(chi_x/(n*dof_x)) ##cramer's V test formula\n",
    "    cramer_test.append(round(cramer_test_x,2))\n",
    "\n",
    "df_chi_square['cols']=cols\n",
    "df_chi_square['chi2']=chi\n",
    "df_chi_square['pval']=pval\n",
    "df_chi_square['dof']=dof\n",
    "df_chi_square['critical value']=critical_value\n",
    "df_chi_square['flg_critical']=df_chi_square['chi2']>df_chi_square['critical value']\n",
    "df_chi_square['flg_pval'] =df_chi_square['pval']<0.05\n",
    "df_chi_square['cramer_test']=cramer_test\n",
    "df_chi_square"
   ]
  },
  {
   "cell_type": "markdown",
   "metadata": {},
   "source": [
    "american teachers has the percentage 10 %of projects classified as exctiting\n",
    "what is almost the double of the global percentage (6%)\n"
   ]
  },
  {
   "cell_type": "code",
   "execution_count": 50,
   "metadata": {},
   "outputs": [
    {
     "data": {
      "text/plain": [
       "0.05865601008313509"
      ]
     },
     "metadata": {},
     "output_type": "display_data"
    },
    {
     "data": {
      "text/plain": [
       "0.10556471035619217"
      ]
     },
     "metadata": {},
     "output_type": "display_data"
    }
   ],
   "source": [
    "display(group_teacher.exciting_project.sum()/group_teacher.count_projects.sum())\n",
    "display(group_teacher[group_teacher.teacher_teach_for_america=='t'].exciting_project.sum()/group_teacher[group_teacher.teacher_teach_for_america=='t'].count_projects.sum())"
   ]
  },
  {
   "cell_type": "code",
   "execution_count": 51,
   "metadata": {},
   "outputs": [
    {
     "data": {
      "text/html": [
       "<div>\n",
       "<style scoped>\n",
       "    .dataframe tbody tr th:only-of-type {\n",
       "        vertical-align: middle;\n",
       "    }\n",
       "\n",
       "    .dataframe tbody tr th {\n",
       "        vertical-align: top;\n",
       "    }\n",
       "\n",
       "    .dataframe thead th {\n",
       "        text-align: right;\n",
       "    }\n",
       "</style>\n",
       "<table border=\"1\" class=\"dataframe\">\n",
       "  <thead>\n",
       "    <tr style=\"text-align: right;\">\n",
       "      <th></th>\n",
       "      <th>students_reached</th>\n",
       "      <th>count_projects</th>\n",
       "      <th>exciting_project</th>\n",
       "      <th>flg_teacher_exciting</th>\n",
       "    </tr>\n",
       "  </thead>\n",
       "  <tbody>\n",
       "    <tr>\n",
       "      <th>students_reached</th>\n",
       "      <td>1.00</td>\n",
       "      <td>0.12</td>\n",
       "      <td>0.05</td>\n",
       "      <td>0.02</td>\n",
       "    </tr>\n",
       "    <tr>\n",
       "      <th>count_projects</th>\n",
       "      <td>0.12</td>\n",
       "      <td>1.00</td>\n",
       "      <td>0.40</td>\n",
       "      <td>0.21</td>\n",
       "    </tr>\n",
       "    <tr>\n",
       "      <th>exciting_project</th>\n",
       "      <td>0.05</td>\n",
       "      <td>0.40</td>\n",
       "      <td>1.00</td>\n",
       "      <td>0.75</td>\n",
       "    </tr>\n",
       "    <tr>\n",
       "      <th>flg_teacher_exciting</th>\n",
       "      <td>0.02</td>\n",
       "      <td>0.21</td>\n",
       "      <td>0.75</td>\n",
       "      <td>1.00</td>\n",
       "    </tr>\n",
       "  </tbody>\n",
       "</table>\n",
       "</div>"
      ],
      "text/plain": [
       "                      students_reached  count_projects  exciting_project  \\\n",
       "students_reached                  1.00            0.12              0.05   \n",
       "count_projects                    0.12            1.00              0.40   \n",
       "exciting_project                  0.05            0.40              1.00   \n",
       "flg_teacher_exciting              0.02            0.21              0.75   \n",
       "\n",
       "                      flg_teacher_exciting  \n",
       "students_reached                      0.02  \n",
       "count_projects                        0.21  \n",
       "exciting_project                      0.75  \n",
       "flg_teacher_exciting                  1.00  "
      ]
     },
     "execution_count": 51,
     "metadata": {},
     "output_type": "execute_result"
    }
   ],
   "source": [
    "corrmat = group_teacher[['students_reached','count_projects','exciting_project','flg_teacher_exciting']].corr()\n",
    "corrmat\n"
   ]
  },
  {
   "cell_type": "code",
   "execution_count": 52,
   "metadata": {},
   "outputs": [
    {
     "data": {
      "text/plain": [
       "Index(['teacher_prefix', 'teacher_teach_for_america',\n",
       "       'teacher_ny_teaching_fellow', 'poverty_level', 'flg_teacher_exciting',\n",
       "       'students_reached', 'exciting_project', 'count_projects'],\n",
       "      dtype='object')"
      ]
     },
     "execution_count": 52,
     "metadata": {},
     "output_type": "execute_result"
    }
   ],
   "source": [
    "group_teacher.columns"
   ]
  },
  {
   "cell_type": "code",
   "execution_count": 53,
   "metadata": {},
   "outputs": [
    {
     "data": {
      "text/html": [
       "<div>\n",
       "<style scoped>\n",
       "    .dataframe tbody tr th:only-of-type {\n",
       "        vertical-align: middle;\n",
       "    }\n",
       "\n",
       "    .dataframe tbody tr th {\n",
       "        vertical-align: top;\n",
       "    }\n",
       "\n",
       "    .dataframe thead th {\n",
       "        text-align: right;\n",
       "    }\n",
       "</style>\n",
       "<table border=\"1\" class=\"dataframe\">\n",
       "  <thead>\n",
       "    <tr style=\"text-align: right;\">\n",
       "      <th></th>\n",
       "      <th>flg_teacher_exciting</th>\n",
       "      <th>students_reached</th>\n",
       "      <th>exciting_project</th>\n",
       "      <th>count_projects</th>\n",
       "    </tr>\n",
       "  </thead>\n",
       "  <tbody>\n",
       "    <tr>\n",
       "      <th>count</th>\n",
       "      <td>29623.00</td>\n",
       "      <td>29623.00</td>\n",
       "      <td>29623.00</td>\n",
       "      <td>29623.00</td>\n",
       "    </tr>\n",
       "    <tr>\n",
       "      <th>mean</th>\n",
       "      <td>1.00</td>\n",
       "      <td>495.00</td>\n",
       "      <td>1.33</td>\n",
       "      <td>5.87</td>\n",
       "    </tr>\n",
       "    <tr>\n",
       "      <th>std</th>\n",
       "      <td>0.00</td>\n",
       "      <td>1849.81</td>\n",
       "      <td>1.09</td>\n",
       "      <td>11.71</td>\n",
       "    </tr>\n",
       "    <tr>\n",
       "      <th>min</th>\n",
       "      <td>1.00</td>\n",
       "      <td>0.00</td>\n",
       "      <td>1.00</td>\n",
       "      <td>1.00</td>\n",
       "    </tr>\n",
       "    <tr>\n",
       "      <th>25%</th>\n",
       "      <td>1.00</td>\n",
       "      <td>50.00</td>\n",
       "      <td>1.00</td>\n",
       "      <td>1.00</td>\n",
       "    </tr>\n",
       "    <tr>\n",
       "      <th>50%</th>\n",
       "      <td>1.00</td>\n",
       "      <td>130.00</td>\n",
       "      <td>1.00</td>\n",
       "      <td>3.00</td>\n",
       "    </tr>\n",
       "    <tr>\n",
       "      <th>75%</th>\n",
       "      <td>1.00</td>\n",
       "      <td>380.00</td>\n",
       "      <td>1.00</td>\n",
       "      <td>5.00</td>\n",
       "    </tr>\n",
       "    <tr>\n",
       "      <th>max</th>\n",
       "      <td>1.00</td>\n",
       "      <td>164768.00</td>\n",
       "      <td>41.00</td>\n",
       "      <td>246.00</td>\n",
       "    </tr>\n",
       "  </tbody>\n",
       "</table>\n",
       "</div>"
      ],
      "text/plain": [
       "       flg_teacher_exciting  students_reached  exciting_project  \\\n",
       "count              29623.00          29623.00          29623.00   \n",
       "mean                   1.00            495.00              1.33   \n",
       "std                    0.00           1849.81              1.09   \n",
       "min                    1.00              0.00              1.00   \n",
       "25%                    1.00             50.00              1.00   \n",
       "50%                    1.00            130.00              1.00   \n",
       "75%                    1.00            380.00              1.00   \n",
       "max                    1.00         164768.00             41.00   \n",
       "\n",
       "       count_projects  \n",
       "count        29623.00  \n",
       "mean             5.87  \n",
       "std             11.71  \n",
       "min              1.00  \n",
       "25%              1.00  \n",
       "50%              3.00  \n",
       "75%              5.00  \n",
       "max            246.00  "
      ]
     },
     "metadata": {},
     "output_type": "display_data"
    },
    {
     "data": {
      "text/html": [
       "<div>\n",
       "<style scoped>\n",
       "    .dataframe tbody tr th:only-of-type {\n",
       "        vertical-align: middle;\n",
       "    }\n",
       "\n",
       "    .dataframe tbody tr th {\n",
       "        vertical-align: top;\n",
       "    }\n",
       "\n",
       "    .dataframe thead th {\n",
       "        text-align: right;\n",
       "    }\n",
       "</style>\n",
       "<table border=\"1\" class=\"dataframe\">\n",
       "  <thead>\n",
       "    <tr style=\"text-align: right;\">\n",
       "      <th></th>\n",
       "      <th>flg_teacher_exciting</th>\n",
       "      <th>students_reached</th>\n",
       "      <th>exciting_project</th>\n",
       "      <th>count_projects</th>\n",
       "    </tr>\n",
       "  </thead>\n",
       "  <tbody>\n",
       "    <tr>\n",
       "      <th>count</th>\n",
       "      <td>242393.00</td>\n",
       "      <td>242393.00</td>\n",
       "      <td>242393.00</td>\n",
       "      <td>242393.00</td>\n",
       "    </tr>\n",
       "    <tr>\n",
       "      <th>mean</th>\n",
       "      <td>0.12</td>\n",
       "      <td>267.09</td>\n",
       "      <td>0.16</td>\n",
       "      <td>2.76</td>\n",
       "    </tr>\n",
       "    <tr>\n",
       "      <th>std</th>\n",
       "      <td>0.33</td>\n",
       "      <td>3909.98</td>\n",
       "      <td>0.58</td>\n",
       "      <td>5.60</td>\n",
       "    </tr>\n",
       "    <tr>\n",
       "      <th>min</th>\n",
       "      <td>0.00</td>\n",
       "      <td>0.00</td>\n",
       "      <td>0.00</td>\n",
       "      <td>1.00</td>\n",
       "    </tr>\n",
       "    <tr>\n",
       "      <th>25%</th>\n",
       "      <td>0.00</td>\n",
       "      <td>30.00</td>\n",
       "      <td>0.00</td>\n",
       "      <td>1.00</td>\n",
       "    </tr>\n",
       "    <tr>\n",
       "      <th>50%</th>\n",
       "      <td>0.00</td>\n",
       "      <td>78.00</td>\n",
       "      <td>0.00</td>\n",
       "      <td>1.00</td>\n",
       "    </tr>\n",
       "    <tr>\n",
       "      <th>75%</th>\n",
       "      <td>0.00</td>\n",
       "      <td>200.00</td>\n",
       "      <td>0.00</td>\n",
       "      <td>3.00</td>\n",
       "    </tr>\n",
       "    <tr>\n",
       "      <th>max</th>\n",
       "      <td>1.00</td>\n",
       "      <td>1002668.00</td>\n",
       "      <td>41.00</td>\n",
       "      <td>246.00</td>\n",
       "    </tr>\n",
       "  </tbody>\n",
       "</table>\n",
       "</div>"
      ],
      "text/plain": [
       "       flg_teacher_exciting  students_reached  exciting_project  \\\n",
       "count             242393.00         242393.00         242393.00   \n",
       "mean                   0.12            267.09              0.16   \n",
       "std                    0.33           3909.98              0.58   \n",
       "min                    0.00              0.00              0.00   \n",
       "25%                    0.00             30.00              0.00   \n",
       "50%                    0.00             78.00              0.00   \n",
       "75%                    0.00            200.00              0.00   \n",
       "max                    1.00        1002668.00             41.00   \n",
       "\n",
       "       count_projects  \n",
       "count       242393.00  \n",
       "mean             2.76  \n",
       "std              5.60  \n",
       "min              1.00  \n",
       "25%              1.00  \n",
       "50%              1.00  \n",
       "75%              3.00  \n",
       "max            246.00  "
      ]
     },
     "metadata": {},
     "output_type": "display_data"
    }
   ],
   "source": [
    "#Number of projects by teacher accordingly with teacher classifier\n",
    "display(group_teacher[group_teacher.flg_teacher_exciting==1].describe())\n",
    "display(group_teacher.describe())"
   ]
  },
  {
   "cell_type": "code",
   "execution_count": 54,
   "metadata": {},
   "outputs": [
    {
     "data": {
      "text/plain": [
       "array(['high poverty', 'highest poverty', 'moderate poverty',\n",
       "       'low poverty'], dtype=object)"
      ]
     },
     "execution_count": 54,
     "metadata": {},
     "output_type": "execute_result"
    }
   ],
   "source": [
    "group_teacher.poverty_level.dropna().unique()"
   ]
  },
  {
   "cell_type": "code",
   "execution_count": 55,
   "metadata": {},
   "outputs": [
    {
     "data": {
      "text/plain": [
       "Text(0.5, 1.0, 'Count Schools')"
      ]
     },
     "execution_count": 55,
     "metadata": {},
     "output_type": "execute_result"
    },
    {
     "data": {
      "image/png": "[encoded data removed]",
      "text/plain": [
       "<Figure size 432x288 with 1 Axes>"
      ]
     },
     "metadata": {
      "needs_background": "light"
     },
     "output_type": "display_data"
    }
   ],
   "source": [
    "sns.countplot(x='poverty_level',data=group_teacher[group_teacher.flg_teacher_exciting==1],\n",
    "             order=['high poverty', 'highest poverty', 'moderate poverty',\n",
    "       'low poverty'])\n",
    "plt.title('Count Schools')"
   ]
  },
  {
   "cell_type": "code",
   "execution_count": 56,
   "metadata": {},
   "outputs": [
    {
     "data": {
      "text/plain": [
       "Text(0.5, 1.0, 'Count Schools')"
      ]
     },
     "execution_count": 56,
     "metadata": {},
     "output_type": "execute_result"
    },
    {
     "data": {
      "image/png": "[encoded data removed]",
      "text/plain": [
       "<Figure size 432x288 with 1 Axes>"
      ]
     },
     "metadata": {
      "needs_background": "light"
     },
     "output_type": "display_data"
    }
   ],
   "source": [
    "sns.countplot(x='poverty_level',data=group_teacher,\n",
    "              order=['high poverty', 'highest poverty', 'moderate poverty',\n",
    "       'low poverty'])\n",
    "plt.title('Count Schools')"
   ]
  },
  {
   "cell_type": "markdown",
   "metadata": {},
   "source": [
    "#### Exciting  projects are very concentrated in few schools (30% of the total schools) and teachers (11% of the total).\n",
    "#### Schools and teachers with at least one excting project has a double average of projects released .\n",
    "#### Schools and teachers with at least one excting project has a better ratio of excting/total projects."
   ]
  },
  {
   "cell_type": "markdown",
   "metadata": {},
   "source": [
    "### treating outliers/errors"
   ]
  },
  {
   "cell_type": "markdown",
   "metadata": {},
   "source": [
    "We will consider outliers numbers above median + 2 * std and replace it by median\n",
    "\n",
    "and drop null rows"
   ]
  },
  {
   "cell_type": "code",
   "execution_count": null,
   "metadata": {},
   "outputs": [],
   "source": []
  },
  {
   "cell_type": "code",
   "execution_count": null,
   "metadata": {},
   "outputs": [],
   "source": []
  },
  {
   "cell_type": "markdown",
   "metadata": {},
   "source": [
    "### finding correlations"
   ]
  },
  {
   "cell_type": "markdown",
   "metadata": {},
   "source": [
    " getting dummy variable for excting projects"
   ]
  },
  {
   "cell_type": "code",
   "execution_count": null,
   "metadata": {},
   "outputs": [],
   "source": []
  },
  {
   "cell_type": "code",
   "execution_count": null,
   "metadata": {},
   "outputs": [],
   "source": []
  },
  {
   "cell_type": "code",
   "execution_count": null,
   "metadata": {},
   "outputs": [],
   "source": []
  },
  {
   "cell_type": "code",
   "execution_count": 57,
   "metadata": {},
   "outputs": [],
   "source": [
    "#sns.pairplot(df_projects[['fulfillment_labor_materials',\n",
    "#       'total_price_excluding_optional_support',\n",
    "#       'total_price_including_optional_support','students_reached','exciting_dummy']],\n",
    "#            hue='exciting_dummy')"
   ]
  },
  {
   "cell_type": "markdown",
   "metadata": {},
   "source": [
    "Correlation between total_price_excluding_optional_support and total_price_including_optional_support too high so we drop total_price_excluding_optional_support\n",
    "Cannot achive more conclusions with correlations"
   ]
  },
  {
   "cell_type": "code",
   "execution_count": null,
   "metadata": {},
   "outputs": [],
   "source": []
  },
  {
   "cell_type": "markdown",
   "metadata": {},
   "source": [
    "# Donations Dataset"
   ]
  },
  {
   "cell_type": "code",
   "execution_count": 58,
   "metadata": {},
   "outputs": [
    {
     "data": {
      "text/html": [
       "<div>\n",
       "<style scoped>\n",
       "    .dataframe tbody tr th:only-of-type {\n",
       "        vertical-align: middle;\n",
       "    }\n",
       "\n",
       "    .dataframe tbody tr th {\n",
       "        vertical-align: top;\n",
       "    }\n",
       "\n",
       "    .dataframe thead th {\n",
       "        text-align: right;\n",
       "    }\n",
       "</style>\n",
       "<table border=\"1\" class=\"dataframe\">\n",
       "  <thead>\n",
       "    <tr style=\"text-align: right;\">\n",
       "      <th></th>\n",
       "      <th>donationid</th>\n",
       "      <th>donor_acctid</th>\n",
       "      <th>donor_city</th>\n",
       "      <th>donor_state</th>\n",
       "      <th>donor_zip</th>\n",
       "      <th>is_teacher_acct</th>\n",
       "      <th>donation_timestamp</th>\n",
       "      <th>donation_to_project</th>\n",
       "      <th>donation_optional_support</th>\n",
       "      <th>donation_total</th>\n",
       "      <th>dollar_amount</th>\n",
       "      <th>donation_included_optional_support</th>\n",
       "      <th>payment_method</th>\n",
       "      <th>payment_included_acct_credit</th>\n",
       "      <th>payment_included_campaign_gift_card</th>\n",
       "      <th>payment_included_web_purchased_gift_card</th>\n",
       "      <th>payment_was_promo_matched</th>\n",
       "      <th>via_giving_page</th>\n",
       "      <th>for_honoree</th>\n",
       "      <th>donation_message</th>\n",
       "    </tr>\n",
       "    <tr>\n",
       "      <th>projectid</th>\n",
       "      <th></th>\n",
       "      <th></th>\n",
       "      <th></th>\n",
       "      <th></th>\n",
       "      <th></th>\n",
       "      <th></th>\n",
       "      <th></th>\n",
       "      <th></th>\n",
       "      <th></th>\n",
       "      <th></th>\n",
       "      <th></th>\n",
       "      <th></th>\n",
       "      <th></th>\n",
       "      <th></th>\n",
       "      <th></th>\n",
       "      <th></th>\n",
       "      <th></th>\n",
       "      <th></th>\n",
       "      <th></th>\n",
       "      <th></th>\n",
       "    </tr>\n",
       "  </thead>\n",
       "  <tbody>\n",
       "    <tr>\n",
       "      <th>ffffac55ee02a49d1abc87ba6fc61135</th>\n",
       "      <td>431d720bc3dfd75ae445a5eaa0b0638d</td>\n",
       "      <td>22cbc920c9b5fa08dfb331422f5926b5</td>\n",
       "      <td>Peachtree City</td>\n",
       "      <td>GA</td>\n",
       "      <td>30269.00</td>\n",
       "      <td>f</td>\n",
       "      <td>2011-08-25 14:27:34.807</td>\n",
       "      <td>42.50</td>\n",
       "      <td>7.50</td>\n",
       "      <td>50.00</td>\n",
       "      <td>10_to_100</td>\n",
       "      <td>t</td>\n",
       "      <td>no_cash_received</td>\n",
       "      <td>f</td>\n",
       "      <td>t</td>\n",
       "      <td>f</td>\n",
       "      <td>f</td>\n",
       "      <td>f</td>\n",
       "      <td>f</td>\n",
       "      <td>I gave to this project because I support the e...</td>\n",
       "    </tr>\n",
       "    <tr>\n",
       "      <th>ffffac55ee02a49d1abc87ba6fc61135</th>\n",
       "      <td>fcfedba1c8a0ba77d280cace80a909f6</td>\n",
       "      <td>521f1830a77c9dbbf8119d99c6206a16</td>\n",
       "      <td>NaN</td>\n",
       "      <td>GA</td>\n",
       "      <td>NaN</td>\n",
       "      <td>f</td>\n",
       "      <td>2011-11-04 07:54:21.552</td>\n",
       "      <td>26.83</td>\n",
       "      <td>4.73</td>\n",
       "      <td>31.56</td>\n",
       "      <td>10_to_100</td>\n",
       "      <td>t</td>\n",
       "      <td>creditcard</td>\n",
       "      <td>f</td>\n",
       "      <td>t</td>\n",
       "      <td>f</td>\n",
       "      <td>f</td>\n",
       "      <td>f</td>\n",
       "      <td>f</td>\n",
       "      <td>I donated because I want to support kids in Ge...</td>\n",
       "    </tr>\n",
       "    <tr>\n",
       "      <th>ffffac55ee02a49d1abc87ba6fc61135</th>\n",
       "      <td>3fa95d29986aa6f401c6719ced3a3ce7</td>\n",
       "      <td>1e0a63fc8141c7ba26b8b44ca0871b90</td>\n",
       "      <td>Rockville</td>\n",
       "      <td>MD</td>\n",
       "      <td>20853.00</td>\n",
       "      <td>f</td>\n",
       "      <td>2011-11-02 22:53:53.019</td>\n",
       "      <td>55.35</td>\n",
       "      <td>0.00</td>\n",
       "      <td>55.35</td>\n",
       "      <td>10_to_100</td>\n",
       "      <td>f</td>\n",
       "      <td>no_cash_received</td>\n",
       "      <td>t</td>\n",
       "      <td>f</td>\n",
       "      <td>f</td>\n",
       "      <td>f</td>\n",
       "      <td>t</td>\n",
       "      <td>f</td>\n",
       "      <td>The Spark's 'pet' projects include those which...</td>\n",
       "    </tr>\n",
       "    <tr>\n",
       "      <th>ffffac55ee02a49d1abc87ba6fc61135</th>\n",
       "      <td>020ad6bd5e88a35741d23b5e08f8b8e8</td>\n",
       "      <td>1d4acb508df29d5f1cc6d382969576cb</td>\n",
       "      <td>Salem</td>\n",
       "      <td>IN</td>\n",
       "      <td>47167.00</td>\n",
       "      <td>f</td>\n",
       "      <td>2011-11-03 23:54:01.109</td>\n",
       "      <td>8.50</td>\n",
       "      <td>1.50</td>\n",
       "      <td>10.00</td>\n",
       "      <td>10_to_100</td>\n",
       "      <td>t</td>\n",
       "      <td>paypal</td>\n",
       "      <td>f</td>\n",
       "      <td>f</td>\n",
       "      <td>f</td>\n",
       "      <td>f</td>\n",
       "      <td>f</td>\n",
       "      <td>f</td>\n",
       "      <td>I gave to this project because Education is im...</td>\n",
       "    </tr>\n",
       "    <tr>\n",
       "      <th>ffffac55ee02a49d1abc87ba6fc61135</th>\n",
       "      <td>4b44b03f304d6425ae94446686f93cd6</td>\n",
       "      <td>59c3c3cfcccc53ae855f7eee911c478b</td>\n",
       "      <td>anonymous</td>\n",
       "      <td>NaN</td>\n",
       "      <td>0.00</td>\n",
       "      <td>f</td>\n",
       "      <td>2011-11-02 23:21:00.043</td>\n",
       "      <td>20.00</td>\n",
       "      <td>0.00</td>\n",
       "      <td>20.00</td>\n",
       "      <td>10_to_100</td>\n",
       "      <td>f</td>\n",
       "      <td>no_cash_received</td>\n",
       "      <td>f</td>\n",
       "      <td>f</td>\n",
       "      <td>t</td>\n",
       "      <td>f</td>\n",
       "      <td>t</td>\n",
       "      <td>f</td>\n",
       "      <td>I lent a paw to help the children in this clas...</td>\n",
       "    </tr>\n",
       "  </tbody>\n",
       "</table>\n",
       "</div>"
      ],
      "text/plain": [
       "                                                        donationid  \\\n",
       "projectid                                                            \n",
       "ffffac55ee02a49d1abc87ba6fc61135  431d720bc3dfd75ae445a5eaa0b0638d   \n",
       "ffffac55ee02a49d1abc87ba6fc61135  fcfedba1c8a0ba77d280cace80a909f6   \n",
       "ffffac55ee02a49d1abc87ba6fc61135  3fa95d29986aa6f401c6719ced3a3ce7   \n",
       "ffffac55ee02a49d1abc87ba6fc61135  020ad6bd5e88a35741d23b5e08f8b8e8   \n",
       "ffffac55ee02a49d1abc87ba6fc61135  4b44b03f304d6425ae94446686f93cd6   \n",
       "\n",
       "                                                      donor_acctid  \\\n",
       "projectid                                                            \n",
       "ffffac55ee02a49d1abc87ba6fc61135  22cbc920c9b5fa08dfb331422f5926b5   \n",
       "ffffac55ee02a49d1abc87ba6fc61135  521f1830a77c9dbbf8119d99c6206a16   \n",
       "ffffac55ee02a49d1abc87ba6fc61135  1e0a63fc8141c7ba26b8b44ca0871b90   \n",
       "ffffac55ee02a49d1abc87ba6fc61135  1d4acb508df29d5f1cc6d382969576cb   \n",
       "ffffac55ee02a49d1abc87ba6fc61135  59c3c3cfcccc53ae855f7eee911c478b   \n",
       "\n",
       "                                      donor_city donor_state  donor_zip  \\\n",
       "projectid                                                                 \n",
       "ffffac55ee02a49d1abc87ba6fc61135  Peachtree City          GA   30269.00   \n",
       "ffffac55ee02a49d1abc87ba6fc61135             NaN          GA        NaN   \n",
       "ffffac55ee02a49d1abc87ba6fc61135       Rockville          MD   20853.00   \n",
       "ffffac55ee02a49d1abc87ba6fc61135           Salem          IN   47167.00   \n",
       "ffffac55ee02a49d1abc87ba6fc61135       anonymous         NaN       0.00   \n",
       "\n",
       "                                 is_teacher_acct       donation_timestamp  \\\n",
       "projectid                                                                   \n",
       "ffffac55ee02a49d1abc87ba6fc61135               f  2011-08-25 14:27:34.807   \n",
       "ffffac55ee02a49d1abc87ba6fc61135               f  2011-11-04 07:54:21.552   \n",
       "ffffac55ee02a49d1abc87ba6fc61135               f  2011-11-02 22:53:53.019   \n",
       "ffffac55ee02a49d1abc87ba6fc61135               f  2011-11-03 23:54:01.109   \n",
       "ffffac55ee02a49d1abc87ba6fc61135               f  2011-11-02 23:21:00.043   \n",
       "\n",
       "                                  donation_to_project  \\\n",
       "projectid                                               \n",
       "ffffac55ee02a49d1abc87ba6fc61135                42.50   \n",
       "ffffac55ee02a49d1abc87ba6fc61135                26.83   \n",
       "ffffac55ee02a49d1abc87ba6fc61135                55.35   \n",
       "ffffac55ee02a49d1abc87ba6fc61135                 8.50   \n",
       "ffffac55ee02a49d1abc87ba6fc61135                20.00   \n",
       "\n",
       "                                  donation_optional_support  donation_total  \\\n",
       "projectid                                                                     \n",
       "ffffac55ee02a49d1abc87ba6fc61135                       7.50           50.00   \n",
       "ffffac55ee02a49d1abc87ba6fc61135                       4.73           31.56   \n",
       "ffffac55ee02a49d1abc87ba6fc61135                       0.00           55.35   \n",
       "ffffac55ee02a49d1abc87ba6fc61135                       1.50           10.00   \n",
       "ffffac55ee02a49d1abc87ba6fc61135                       0.00           20.00   \n",
       "\n",
       "                                 dollar_amount  \\\n",
       "projectid                                        \n",
       "ffffac55ee02a49d1abc87ba6fc61135     10_to_100   \n",
       "ffffac55ee02a49d1abc87ba6fc61135     10_to_100   \n",
       "ffffac55ee02a49d1abc87ba6fc61135     10_to_100   \n",
       "ffffac55ee02a49d1abc87ba6fc61135     10_to_100   \n",
       "ffffac55ee02a49d1abc87ba6fc61135     10_to_100   \n",
       "\n",
       "                                 donation_included_optional_support  \\\n",
       "projectid                                                             \n",
       "ffffac55ee02a49d1abc87ba6fc61135                                  t   \n",
       "ffffac55ee02a49d1abc87ba6fc61135                                  t   \n",
       "ffffac55ee02a49d1abc87ba6fc61135                                  f   \n",
       "ffffac55ee02a49d1abc87ba6fc61135                                  t   \n",
       "ffffac55ee02a49d1abc87ba6fc61135                                  f   \n",
       "\n",
       "                                    payment_method  \\\n",
       "projectid                                            \n",
       "ffffac55ee02a49d1abc87ba6fc61135  no_cash_received   \n",
       "ffffac55ee02a49d1abc87ba6fc61135        creditcard   \n",
       "ffffac55ee02a49d1abc87ba6fc61135  no_cash_received   \n",
       "ffffac55ee02a49d1abc87ba6fc61135            paypal   \n",
       "ffffac55ee02a49d1abc87ba6fc61135  no_cash_received   \n",
       "\n",
       "                                 payment_included_acct_credit  \\\n",
       "projectid                                                       \n",
       "ffffac55ee02a49d1abc87ba6fc61135                            f   \n",
       "ffffac55ee02a49d1abc87ba6fc61135                            f   \n",
       "ffffac55ee02a49d1abc87ba6fc61135                            t   \n",
       "ffffac55ee02a49d1abc87ba6fc61135                            f   \n",
       "ffffac55ee02a49d1abc87ba6fc61135                            f   \n",
       "\n",
       "                                 payment_included_campaign_gift_card  \\\n",
       "projectid                                                              \n",
       "ffffac55ee02a49d1abc87ba6fc61135                                   t   \n",
       "ffffac55ee02a49d1abc87ba6fc61135                                   t   \n",
       "ffffac55ee02a49d1abc87ba6fc61135                                   f   \n",
       "ffffac55ee02a49d1abc87ba6fc61135                                   f   \n",
       "ffffac55ee02a49d1abc87ba6fc61135                                   f   \n",
       "\n",
       "                                 payment_included_web_purchased_gift_card  \\\n",
       "projectid                                                                   \n",
       "ffffac55ee02a49d1abc87ba6fc61135                                        f   \n",
       "ffffac55ee02a49d1abc87ba6fc61135                                        f   \n",
       "ffffac55ee02a49d1abc87ba6fc61135                                        f   \n",
       "ffffac55ee02a49d1abc87ba6fc61135                                        f   \n",
       "ffffac55ee02a49d1abc87ba6fc61135                                        t   \n",
       "\n",
       "                                 payment_was_promo_matched via_giving_page  \\\n",
       "projectid                                                                    \n",
       "ffffac55ee02a49d1abc87ba6fc61135                         f               f   \n",
       "ffffac55ee02a49d1abc87ba6fc61135                         f               f   \n",
       "ffffac55ee02a49d1abc87ba6fc61135                         f               t   \n",
       "ffffac55ee02a49d1abc87ba6fc61135                         f               f   \n",
       "ffffac55ee02a49d1abc87ba6fc61135                         f               t   \n",
       "\n",
       "                                 for_honoree  \\\n",
       "projectid                                      \n",
       "ffffac55ee02a49d1abc87ba6fc61135           f   \n",
       "ffffac55ee02a49d1abc87ba6fc61135           f   \n",
       "ffffac55ee02a49d1abc87ba6fc61135           f   \n",
       "ffffac55ee02a49d1abc87ba6fc61135           f   \n",
       "ffffac55ee02a49d1abc87ba6fc61135           f   \n",
       "\n",
       "                                                                   donation_message  \n",
       "projectid                                                                            \n",
       "ffffac55ee02a49d1abc87ba6fc61135  I gave to this project because I support the e...  \n",
       "ffffac55ee02a49d1abc87ba6fc61135  I donated because I want to support kids in Ge...  \n",
       "ffffac55ee02a49d1abc87ba6fc61135  The Spark's 'pet' projects include those which...  \n",
       "ffffac55ee02a49d1abc87ba6fc61135  I gave to this project because Education is im...  \n",
       "ffffac55ee02a49d1abc87ba6fc61135  I lent a paw to help the children in this clas...  "
      ]
     },
     "execution_count": 58,
     "metadata": {},
     "output_type": "execute_result"
    }
   ],
   "source": [
    "\n",
    "df_donations = raw_donations\n",
    "df_donations.head()"
   ]
  },
  {
   "cell_type": "code",
   "execution_count": 59,
   "metadata": {},
   "outputs": [
    {
     "data": {
      "text/plain": [
       "3097989"
      ]
     },
     "execution_count": 59,
     "metadata": {},
     "output_type": "execute_result"
    }
   ],
   "source": [
    "df_donations = df_donations.join(raw_projects[['date_posted','school_state']], how ='left')\n",
    "df_donations = df_donations[df_donations.date_posted < '2014-01-01']\n",
    "len(df_donations)"
   ]
  },
  {
   "cell_type": "code",
   "execution_count": 60,
   "metadata": {},
   "outputs": [
    {
     "data": {
      "text/plain": [
       "76.67690734860867"
      ]
     },
     "execution_count": 60,
     "metadata": {},
     "output_type": "execute_result"
    }
   ],
   "source": [
    "df_donations.donation_total.mean()"
   ]
  },
  {
   "cell_type": "code",
   "execution_count": null,
   "metadata": {},
   "outputs": [],
   "source": []
  },
  {
   "cell_type": "markdown",
   "metadata": {},
   "source": [
    "Before group donations let's get the length of the messages"
   ]
  },
  {
   "cell_type": "code",
   "execution_count": 61,
   "metadata": {},
   "outputs": [],
   "source": [
    "message_len = []\n",
    "\n",
    "for row in df_donations.donation_message:\n",
    "    message_len.append(len(str(row)))\n",
    "    \n",
    "df_donations['message_len']=message_len"
   ]
  },
  {
   "cell_type": "markdown",
   "metadata": {},
   "source": [
    "let's see if the project has donations from differen states"
   ]
  },
  {
   "cell_type": "code",
   "execution_count": 62,
   "metadata": {},
   "outputs": [],
   "source": [
    "flg_diff_estate=[]\n",
    "\n",
    "for a,b in zip(df_donations.donor_state, df_donations.school_state):\n",
    "    if a ==b:\n",
    "        flg_diff_estate.append(1)\n",
    "    else:\n",
    "        flg_diff_estate.append(0)\n",
    "\n",
    "df_donations['donor_diff_estate']= flg_diff_estate"
   ]
  },
  {
   "cell_type": "markdown",
   "metadata": {},
   "source": [
    "create a dummy with is_teacher_acct                                   "
   ]
  },
  {
   "cell_type": "code",
   "execution_count": 63,
   "metadata": {},
   "outputs": [],
   "source": [
    "df_donations['teacher_donor_dummy']= pd.get_dummies(df_donations. is_teacher_acct,drop_first=True)"
   ]
  },
  {
   "cell_type": "markdown",
   "metadata": {},
   "source": [
    "group the dataset"
   ]
  },
  {
   "cell_type": "code",
   "execution_count": 64,
   "metadata": {},
   "outputs": [],
   "source": [
    "df_donations['n_donor']=1\n",
    "df_donations_grouped= df_donations.groupby(by=['projectid']).sum()\n"
   ]
  },
  {
   "cell_type": "code",
   "execution_count": 65,
   "metadata": {},
   "outputs": [],
   "source": [
    "df_donations_grouped.drop(['donor_zip'], axis=1, inplace=True)\n",
    "\n"
   ]
  },
  {
   "cell_type": "code",
   "execution_count": 66,
   "metadata": {},
   "outputs": [],
   "source": [
    "df_donations_grouped = df_donations_grouped.join(raw_outcomes[[ 'at_least_1_teacher_referred_donor', 'fully_funded',\n",
    "       'great_chat','is_exciting']], how ='left')"
   ]
  },
  {
   "cell_type": "markdown",
   "metadata": {},
   "source": [
    "Create dummy with the outcomes"
   ]
  },
  {
   "cell_type": "code",
   "execution_count": 67,
   "metadata": {},
   "outputs": [
    {
     "data": {
      "text/plain": [
       "Index(['is_exciting_t', 'at_least_1_teacher_referred_donor_t',\n",
       "       'fully_funded_t', 'great_chat_t'],\n",
       "      dtype='object')"
      ]
     },
     "execution_count": 67,
     "metadata": {},
     "output_type": "execute_result"
    }
   ],
   "source": [
    "dummies= pd.get_dummies(df_donations_grouped[['is_exciting', 'at_least_1_teacher_referred_donor', 'fully_funded',\n",
    "       'great_chat']],drop_first=True)\n",
    "dummies.columns\n"
   ]
  },
  {
   "cell_type": "code",
   "execution_count": 68,
   "metadata": {},
   "outputs": [
    {
     "data": {
      "text/html": [
       "<div>\n",
       "<style scoped>\n",
       "    .dataframe tbody tr th:only-of-type {\n",
       "        vertical-align: middle;\n",
       "    }\n",
       "\n",
       "    .dataframe tbody tr th {\n",
       "        vertical-align: top;\n",
       "    }\n",
       "\n",
       "    .dataframe thead th {\n",
       "        text-align: right;\n",
       "    }\n",
       "</style>\n",
       "<table border=\"1\" class=\"dataframe\">\n",
       "  <thead>\n",
       "    <tr style=\"text-align: right;\">\n",
       "      <th></th>\n",
       "      <th>donation_to_project</th>\n",
       "      <th>donation_optional_support</th>\n",
       "      <th>donation_total</th>\n",
       "      <th>message_len</th>\n",
       "      <th>donor_diff_estate</th>\n",
       "      <th>teacher_donor_dummy</th>\n",
       "      <th>n_donor</th>\n",
       "      <th>at_least_1_teacher_referred_donor_dummy</th>\n",
       "      <th>great_chat_dummy</th>\n",
       "      <th>is_exciting_dummy</th>\n",
       "    </tr>\n",
       "    <tr>\n",
       "      <th>projectid</th>\n",
       "      <th></th>\n",
       "      <th></th>\n",
       "      <th></th>\n",
       "      <th></th>\n",
       "      <th></th>\n",
       "      <th></th>\n",
       "      <th></th>\n",
       "      <th></th>\n",
       "      <th></th>\n",
       "      <th></th>\n",
       "    </tr>\n",
       "  </thead>\n",
       "  <tbody>\n",
       "    <tr>\n",
       "      <th>00001ccc0e81598c4bd86bacb94d7acb</th>\n",
       "      <td>1273.82</td>\n",
       "      <td>224.79</td>\n",
       "      <td>1498.61</td>\n",
       "      <td>296</td>\n",
       "      <td>1</td>\n",
       "      <td>1.00</td>\n",
       "      <td>3</td>\n",
       "      <td>0</td>\n",
       "      <td>0</td>\n",
       "      <td>0</td>\n",
       "    </tr>\n",
       "    <tr>\n",
       "      <th>00002bff514104264a6b798356fdd893</th>\n",
       "      <td>477.32</td>\n",
       "      <td>84.23</td>\n",
       "      <td>561.55</td>\n",
       "      <td>292</td>\n",
       "      <td>1</td>\n",
       "      <td>0.00</td>\n",
       "      <td>2</td>\n",
       "      <td>0</td>\n",
       "      <td>0</td>\n",
       "      <td>0</td>\n",
       "    </tr>\n",
       "    <tr>\n",
       "      <th>00002d691c05c51a5fdfbb2baef0ba25</th>\n",
       "      <td>102.00</td>\n",
       "      <td>18.00</td>\n",
       "      <td>120.00</td>\n",
       "      <td>573</td>\n",
       "      <td>3</td>\n",
       "      <td>1.00</td>\n",
       "      <td>5</td>\n",
       "      <td>0</td>\n",
       "      <td>1</td>\n",
       "      <td>0</td>\n",
       "    </tr>\n",
       "    <tr>\n",
       "      <th>0000b38bbc7252972f7984848cf58098</th>\n",
       "      <td>547.86</td>\n",
       "      <td>96.68</td>\n",
       "      <td>644.54</td>\n",
       "      <td>349</td>\n",
       "      <td>0</td>\n",
       "      <td>0.00</td>\n",
       "      <td>2</td>\n",
       "      <td>0</td>\n",
       "      <td>0</td>\n",
       "      <td>0</td>\n",
       "    </tr>\n",
       "    <tr>\n",
       "      <th>0000ee613c92ddc5298bf63142996a5c</th>\n",
       "      <td>384.86</td>\n",
       "      <td>67.92</td>\n",
       "      <td>452.78</td>\n",
       "      <td>508</td>\n",
       "      <td>1</td>\n",
       "      <td>2.00</td>\n",
       "      <td>6</td>\n",
       "      <td>1</td>\n",
       "      <td>0</td>\n",
       "      <td>0</td>\n",
       "    </tr>\n",
       "  </tbody>\n",
       "</table>\n",
       "</div>"
      ],
      "text/plain": [
       "                                  donation_to_project  \\\n",
       "projectid                                               \n",
       "00001ccc0e81598c4bd86bacb94d7acb              1273.82   \n",
       "00002bff514104264a6b798356fdd893               477.32   \n",
       "00002d691c05c51a5fdfbb2baef0ba25               102.00   \n",
       "0000b38bbc7252972f7984848cf58098               547.86   \n",
       "0000ee613c92ddc5298bf63142996a5c               384.86   \n",
       "\n",
       "                                  donation_optional_support  donation_total  \\\n",
       "projectid                                                                     \n",
       "00001ccc0e81598c4bd86bacb94d7acb                     224.79         1498.61   \n",
       "00002bff514104264a6b798356fdd893                      84.23          561.55   \n",
       "00002d691c05c51a5fdfbb2baef0ba25                      18.00          120.00   \n",
       "0000b38bbc7252972f7984848cf58098                      96.68          644.54   \n",
       "0000ee613c92ddc5298bf63142996a5c                      67.92          452.78   \n",
       "\n",
       "                                  message_len  donor_diff_estate  \\\n",
       "projectid                                                          \n",
       "00001ccc0e81598c4bd86bacb94d7acb          296                  1   \n",
       "00002bff514104264a6b798356fdd893          292                  1   \n",
       "00002d691c05c51a5fdfbb2baef0ba25          573                  3   \n",
       "0000b38bbc7252972f7984848cf58098          349                  0   \n",
       "0000ee613c92ddc5298bf63142996a5c          508                  1   \n",
       "\n",
       "                                  teacher_donor_dummy  n_donor  \\\n",
       "projectid                                                        \n",
       "00001ccc0e81598c4bd86bacb94d7acb                 1.00        3   \n",
       "00002bff514104264a6b798356fdd893                 0.00        2   \n",
       "00002d691c05c51a5fdfbb2baef0ba25                 1.00        5   \n",
       "0000b38bbc7252972f7984848cf58098                 0.00        2   \n",
       "0000ee613c92ddc5298bf63142996a5c                 2.00        6   \n",
       "\n",
       "                                  at_least_1_teacher_referred_donor_dummy  \\\n",
       "projectid                                                                   \n",
       "00001ccc0e81598c4bd86bacb94d7acb                                        0   \n",
       "00002bff514104264a6b798356fdd893                                        0   \n",
       "00002d691c05c51a5fdfbb2baef0ba25                                        0   \n",
       "0000b38bbc7252972f7984848cf58098                                        0   \n",
       "0000ee613c92ddc5298bf63142996a5c                                        1   \n",
       "\n",
       "                                  great_chat_dummy  is_exciting_dummy  \n",
       "projectid                                                              \n",
       "00001ccc0e81598c4bd86bacb94d7acb                 0                  0  \n",
       "00002bff514104264a6b798356fdd893                 0                  0  \n",
       "00002d691c05c51a5fdfbb2baef0ba25                 1                  0  \n",
       "0000b38bbc7252972f7984848cf58098                 0                  0  \n",
       "0000ee613c92ddc5298bf63142996a5c                 0                  0  "
      ]
     },
     "execution_count": 68,
     "metadata": {},
     "output_type": "execute_result"
    }
   ],
   "source": [
    "\n",
    "df_donations_grouped['at_least_1_teacher_referred_donor_dummy'] =dummies['at_least_1_teacher_referred_donor_t']\n",
    "df_donations_grouped[ 'great_chat_dummy'] =dummies[ 'great_chat_t']\n",
    "df_donations_grouped['is_exciting_dummy'] =dummies['is_exciting_t']\n",
    "\n",
    "df_donations_grouped.drop(['at_least_1_teacher_referred_donor', 'fully_funded', 'great_chat',\n",
    "       'is_exciting'], axis=1, inplace=True)\n",
    "df_donations_grouped.head()"
   ]
  },
  {
   "cell_type": "code",
   "execution_count": null,
   "metadata": {},
   "outputs": [],
   "source": []
  },
  {
   "cell_type": "code",
   "execution_count": 69,
   "metadata": {},
   "outputs": [
    {
     "data": {
      "text/plain": [
       "donation_to_project                       0.04\n",
       "donation_optional_support                 0.04\n",
       "donation_total                            0.04\n",
       "message_len                               0.23\n",
       "donor_diff_estate                         0.17\n",
       "teacher_donor_dummy                       0.11\n",
       "n_donor                                   0.20\n",
       "at_least_1_teacher_referred_donor_dummy   0.49\n",
       "great_chat_dummy                          0.37\n",
       "is_exciting_dummy                         1.00\n",
       "Name: is_exciting_dummy, dtype: float64"
      ]
     },
     "execution_count": 69,
     "metadata": {},
     "output_type": "execute_result"
    }
   ],
   "source": [
    "corrmat=df_donations_grouped.corr()\n",
    "corrmat['is_exciting_dummy']"
   ]
  },
  {
   "cell_type": "code",
   "execution_count": 70,
   "metadata": {},
   "outputs": [
    {
     "data": {
      "text/plain": [
       "<AxesSubplot:>"
      ]
     },
     "execution_count": 70,
     "metadata": {},
     "output_type": "execute_result"
    },
    {
     "data": {
      "image/png": "[encoded data removed]",
      "text/plain": [
       "<Figure size 864x648 with 2 Axes>"
      ]
     },
     "metadata": {
      "needs_background": "light"
     },
     "output_type": "display_data"
    }
   ],
   "source": [
    "f, ax = plt.subplots(figsize=(12, 9))\n",
    "sns.heatmap(corrmat,cmap='RdYlGn',fmt='.2f',annot=True,)"
   ]
  },
  {
   "cell_type": "markdown",
   "metadata": {},
   "source": [
    "## Projects correlations"
   ]
  },
  {
   "cell_type": "code",
   "execution_count": 71,
   "metadata": {},
   "outputs": [],
   "source": [
    "group_don =df_donations[['donor_diff_estate','teacher_donor_dummy','n_donor']].reset_index().groupby(by='projectid').sum()\n",
    "df_projects = df_projects.join(group_don, how='left')"
   ]
  },
  {
   "cell_type": "code",
   "execution_count": 72,
   "metadata": {},
   "outputs": [
    {
     "data": {
      "text/html": [
       "<div>\n",
       "<style scoped>\n",
       "    .dataframe tbody tr th:only-of-type {\n",
       "        vertical-align: middle;\n",
       "    }\n",
       "\n",
       "    .dataframe tbody tr th {\n",
       "        vertical-align: top;\n",
       "    }\n",
       "\n",
       "    .dataframe thead th {\n",
       "        text-align: right;\n",
       "    }\n",
       "</style>\n",
       "<table border=\"1\" class=\"dataframe\">\n",
       "  <thead>\n",
       "    <tr style=\"text-align: right;\">\n",
       "      <th></th>\n",
       "      <th>cols</th>\n",
       "      <th>chi2</th>\n",
       "      <th>pval</th>\n",
       "      <th>dof</th>\n",
       "      <th>critical value</th>\n",
       "      <th>flg_critical</th>\n",
       "      <th>flg_pval</th>\n",
       "      <th>cramer_test</th>\n",
       "    </tr>\n",
       "  </thead>\n",
       "  <tbody>\n",
       "    <tr>\n",
       "      <th>0</th>\n",
       "      <td>primary_focus_subject</td>\n",
       "      <td>519.12</td>\n",
       "      <td>0.00</td>\n",
       "      <td>26</td>\n",
       "      <td>38.89</td>\n",
       "      <td>True</td>\n",
       "      <td>True</td>\n",
       "      <td>0.01</td>\n",
       "    </tr>\n",
       "    <tr>\n",
       "      <th>1</th>\n",
       "      <td>primary_focus_area</td>\n",
       "      <td>348.57</td>\n",
       "      <td>0.00</td>\n",
       "      <td>6</td>\n",
       "      <td>12.59</td>\n",
       "      <td>True</td>\n",
       "      <td>True</td>\n",
       "      <td>0.01</td>\n",
       "    </tr>\n",
       "    <tr>\n",
       "      <th>2</th>\n",
       "      <td>secondary_focus_subject</td>\n",
       "      <td>393.84</td>\n",
       "      <td>0.00</td>\n",
       "      <td>26</td>\n",
       "      <td>38.89</td>\n",
       "      <td>True</td>\n",
       "      <td>True</td>\n",
       "      <td>0.01</td>\n",
       "    </tr>\n",
       "    <tr>\n",
       "      <th>3</th>\n",
       "      <td>secondary_focus_area</td>\n",
       "      <td>85.53</td>\n",
       "      <td>0.00</td>\n",
       "      <td>6</td>\n",
       "      <td>12.59</td>\n",
       "      <td>True</td>\n",
       "      <td>True</td>\n",
       "      <td>0.01</td>\n",
       "    </tr>\n",
       "    <tr>\n",
       "      <th>4</th>\n",
       "      <td>resource_type</td>\n",
       "      <td>382.35</td>\n",
       "      <td>0.00</td>\n",
       "      <td>5</td>\n",
       "      <td>11.07</td>\n",
       "      <td>True</td>\n",
       "      <td>True</td>\n",
       "      <td>0.02</td>\n",
       "    </tr>\n",
       "    <tr>\n",
       "      <th>5</th>\n",
       "      <td>eligible_almost_home_match</td>\n",
       "      <td>12.83</td>\n",
       "      <td>0.00</td>\n",
       "      <td>1</td>\n",
       "      <td>3.84</td>\n",
       "      <td>True</td>\n",
       "      <td>True</td>\n",
       "      <td>0.01</td>\n",
       "    </tr>\n",
       "    <tr>\n",
       "      <th>6</th>\n",
       "      <td>grade_level</td>\n",
       "      <td>63.03</td>\n",
       "      <td>0.00</td>\n",
       "      <td>3</td>\n",
       "      <td>7.81</td>\n",
       "      <td>True</td>\n",
       "      <td>True</td>\n",
       "      <td>0.01</td>\n",
       "    </tr>\n",
       "    <tr>\n",
       "      <th>7</th>\n",
       "      <td>eligible_double_your_impact_match</td>\n",
       "      <td>31.90</td>\n",
       "      <td>0.00</td>\n",
       "      <td>1</td>\n",
       "      <td>3.84</td>\n",
       "      <td>True</td>\n",
       "      <td>True</td>\n",
       "      <td>0.01</td>\n",
       "    </tr>\n",
       "    <tr>\n",
       "      <th>8</th>\n",
       "      <td>flg_school_exciting</td>\n",
       "      <td>22120.29</td>\n",
       "      <td>0.00</td>\n",
       "      <td>1</td>\n",
       "      <td>3.84</td>\n",
       "      <td>True</td>\n",
       "      <td>True</td>\n",
       "      <td>0.28</td>\n",
       "    </tr>\n",
       "    <tr>\n",
       "      <th>9</th>\n",
       "      <td>flg_teacher_exciting</td>\n",
       "      <td>117914.83</td>\n",
       "      <td>0.00</td>\n",
       "      <td>1</td>\n",
       "      <td>3.84</td>\n",
       "      <td>True</td>\n",
       "      <td>True</td>\n",
       "      <td>0.64</td>\n",
       "    </tr>\n",
       "  </tbody>\n",
       "</table>\n",
       "</div>"
      ],
      "text/plain": [
       "                                cols      chi2  pval  dof  critical value  \\\n",
       "0              primary_focus_subject    519.12  0.00   26           38.89   \n",
       "1                 primary_focus_area    348.57  0.00    6           12.59   \n",
       "2            secondary_focus_subject    393.84  0.00   26           38.89   \n",
       "3               secondary_focus_area     85.53  0.00    6           12.59   \n",
       "4                      resource_type    382.35  0.00    5           11.07   \n",
       "5         eligible_almost_home_match     12.83  0.00    1            3.84   \n",
       "6                        grade_level     63.03  0.00    3            7.81   \n",
       "7  eligible_double_your_impact_match     31.90  0.00    1            3.84   \n",
       "8                flg_school_exciting  22120.29  0.00    1            3.84   \n",
       "9               flg_teacher_exciting 117914.83  0.00    1            3.84   \n",
       "\n",
       "   flg_critical  flg_pval  cramer_test  \n",
       "0          True      True         0.01  \n",
       "1          True      True         0.01  \n",
       "2          True      True         0.01  \n",
       "3          True      True         0.01  \n",
       "4          True      True         0.02  \n",
       "5          True      True         0.01  \n",
       "6          True      True         0.01  \n",
       "7          True      True         0.01  \n",
       "8          True      True         0.28  \n",
       "9          True      True         0.64  "
      ]
     },
     "execution_count": 72,
     "metadata": {},
     "output_type": "execute_result"
    }
   ],
   "source": [
    "cols =['primary_focus_subject', 'primary_focus_area',\n",
    "       'secondary_focus_subject', 'secondary_focus_area', \n",
    "       'resource_type','eligible_almost_home_match','grade_level','eligible_double_your_impact_match','flg_school_exciting',\n",
    "       'flg_teacher_exciting']\n",
    "                                                                     \n",
    "##creating df for chi square\n",
    "\n",
    "df_chi_square=pd.DataFrame()\n",
    "chi=[]\n",
    "pval=[]\n",
    "dof=[]\n",
    "critical_value=[]\n",
    "cramer_test=[]\n",
    "\n",
    "## Critical value table for chi square\n",
    "\n",
    "significance = 0.05\n",
    "p = 1 - significance\n",
    "\n",
    "\n",
    "for col in cols:\n",
    "    contingency_table = pd.crosstab(df_projects.exciting_project,df_projects[col])\n",
    "    chi_x, pval_x, dof_x, exp_x = chi2_contingency(contingency_table)\n",
    "    chi.append(chi_x)\n",
    "    pval.append(pval_x)\n",
    "    dof.append(dof_x)\n",
    "    critical_value_x = chi2.ppf(p, dof_x)\n",
    "    critical_value.append(critical_value_x)\n",
    "    n=len(df_projects.dropna()) ### number on the sample\n",
    "    cramer_test_x= np.sqrt(chi_x/(n*dof_x)) ##cramer's V test formula\n",
    "    cramer_test.append(round(cramer_test_x,2))\n",
    "\n",
    "df_chi_square['cols']=cols\n",
    "df_chi_square['chi2']=chi\n",
    "df_chi_square['pval']=pval\n",
    "df_chi_square['dof']=dof\n",
    "df_chi_square['critical value']=critical_value\n",
    "df_chi_square['flg_critical']=df_chi_square['chi2']>df_chi_square['critical value']\n",
    "df_chi_square['flg_pval'] =df_chi_square['pval']<0.05\n",
    "df_chi_square['cramer_test']=cramer_test\n",
    "df_chi_square"
   ]
  },
  {
   "cell_type": "code",
   "execution_count": 73,
   "metadata": {},
   "outputs": [
    {
     "data": {
      "text/html": [
       "<div>\n",
       "<style scoped>\n",
       "    .dataframe tbody tr th:only-of-type {\n",
       "        vertical-align: middle;\n",
       "    }\n",
       "\n",
       "    .dataframe tbody tr th {\n",
       "        vertical-align: top;\n",
       "    }\n",
       "\n",
       "    .dataframe thead th {\n",
       "        text-align: right;\n",
       "    }\n",
       "</style>\n",
       "<table border=\"1\" class=\"dataframe\">\n",
       "  <thead>\n",
       "    <tr style=\"text-align: right;\">\n",
       "      <th></th>\n",
       "      <th>fulfillment_labor_materials</th>\n",
       "      <th>total_price_including_optional_support</th>\n",
       "      <th>students_reached</th>\n",
       "      <th>count_proj_school</th>\n",
       "      <th>donor_diff_estate</th>\n",
       "      <th>teacher_donor_dummy</th>\n",
       "      <th>n_donor</th>\n",
       "      <th>exciting_project</th>\n",
       "    </tr>\n",
       "  </thead>\n",
       "  <tbody>\n",
       "    <tr>\n",
       "      <th>fulfillment_labor_materials</th>\n",
       "      <td>1.00</td>\n",
       "      <td>-0.00</td>\n",
       "      <td>-0.00</td>\n",
       "      <td>0.08</td>\n",
       "      <td>0.17</td>\n",
       "      <td>0.08</td>\n",
       "      <td>0.14</td>\n",
       "      <td>0.15</td>\n",
       "    </tr>\n",
       "    <tr>\n",
       "      <th>total_price_including_optional_support</th>\n",
       "      <td>-0.00</td>\n",
       "      <td>1.00</td>\n",
       "      <td>0.00</td>\n",
       "      <td>-0.00</td>\n",
       "      <td>0.05</td>\n",
       "      <td>0.02</td>\n",
       "      <td>0.08</td>\n",
       "      <td>-0.00</td>\n",
       "    </tr>\n",
       "    <tr>\n",
       "      <th>students_reached</th>\n",
       "      <td>-0.00</td>\n",
       "      <td>0.00</td>\n",
       "      <td>1.00</td>\n",
       "      <td>-0.00</td>\n",
       "      <td>-0.00</td>\n",
       "      <td>0.00</td>\n",
       "      <td>0.00</td>\n",
       "      <td>-0.00</td>\n",
       "    </tr>\n",
       "    <tr>\n",
       "      <th>count_proj_school</th>\n",
       "      <td>0.08</td>\n",
       "      <td>-0.00</td>\n",
       "      <td>-0.00</td>\n",
       "      <td>1.00</td>\n",
       "      <td>0.09</td>\n",
       "      <td>0.12</td>\n",
       "      <td>0.12</td>\n",
       "      <td>0.11</td>\n",
       "    </tr>\n",
       "    <tr>\n",
       "      <th>donor_diff_estate</th>\n",
       "      <td>0.17</td>\n",
       "      <td>0.05</td>\n",
       "      <td>-0.00</td>\n",
       "      <td>0.09</td>\n",
       "      <td>1.00</td>\n",
       "      <td>0.28</td>\n",
       "      <td>0.75</td>\n",
       "      <td>0.17</td>\n",
       "    </tr>\n",
       "    <tr>\n",
       "      <th>teacher_donor_dummy</th>\n",
       "      <td>0.08</td>\n",
       "      <td>0.02</td>\n",
       "      <td>0.00</td>\n",
       "      <td>0.12</td>\n",
       "      <td>0.28</td>\n",
       "      <td>1.00</td>\n",
       "      <td>0.59</td>\n",
       "      <td>0.11</td>\n",
       "    </tr>\n",
       "    <tr>\n",
       "      <th>n_donor</th>\n",
       "      <td>0.14</td>\n",
       "      <td>0.08</td>\n",
       "      <td>0.00</td>\n",
       "      <td>0.12</td>\n",
       "      <td>0.75</td>\n",
       "      <td>0.59</td>\n",
       "      <td>1.00</td>\n",
       "      <td>0.20</td>\n",
       "    </tr>\n",
       "    <tr>\n",
       "      <th>exciting_project</th>\n",
       "      <td>0.15</td>\n",
       "      <td>-0.00</td>\n",
       "      <td>-0.00</td>\n",
       "      <td>0.11</td>\n",
       "      <td>0.17</td>\n",
       "      <td>0.11</td>\n",
       "      <td>0.20</td>\n",
       "      <td>1.00</td>\n",
       "    </tr>\n",
       "  </tbody>\n",
       "</table>\n",
       "</div>"
      ],
      "text/plain": [
       "                                        fulfillment_labor_materials  \\\n",
       "fulfillment_labor_materials                                    1.00   \n",
       "total_price_including_optional_support                        -0.00   \n",
       "students_reached                                              -0.00   \n",
       "count_proj_school                                              0.08   \n",
       "donor_diff_estate                                              0.17   \n",
       "teacher_donor_dummy                                            0.08   \n",
       "n_donor                                                        0.14   \n",
       "exciting_project                                               0.15   \n",
       "\n",
       "                                        total_price_including_optional_support  \\\n",
       "fulfillment_labor_materials                                              -0.00   \n",
       "total_price_including_optional_support                                    1.00   \n",
       "students_reached                                                          0.00   \n",
       "count_proj_school                                                        -0.00   \n",
       "donor_diff_estate                                                         0.05   \n",
       "teacher_donor_dummy                                                       0.02   \n",
       "n_donor                                                                   0.08   \n",
       "exciting_project                                                         -0.00   \n",
       "\n",
       "                                        students_reached  count_proj_school  \\\n",
       "fulfillment_labor_materials                        -0.00               0.08   \n",
       "total_price_including_optional_support              0.00              -0.00   \n",
       "students_reached                                    1.00              -0.00   \n",
       "count_proj_school                                  -0.00               1.00   \n",
       "donor_diff_estate                                  -0.00               0.09   \n",
       "teacher_donor_dummy                                 0.00               0.12   \n",
       "n_donor                                             0.00               0.12   \n",
       "exciting_project                                   -0.00               0.11   \n",
       "\n",
       "                                        donor_diff_estate  \\\n",
       "fulfillment_labor_materials                          0.17   \n",
       "total_price_including_optional_support               0.05   \n",
       "students_reached                                    -0.00   \n",
       "count_proj_school                                    0.09   \n",
       "donor_diff_estate                                    1.00   \n",
       "teacher_donor_dummy                                  0.28   \n",
       "n_donor                                              0.75   \n",
       "exciting_project                                     0.17   \n",
       "\n",
       "                                        teacher_donor_dummy  n_donor  \\\n",
       "fulfillment_labor_materials                            0.08     0.14   \n",
       "total_price_including_optional_support                 0.02     0.08   \n",
       "students_reached                                       0.00     0.00   \n",
       "count_proj_school                                      0.12     0.12   \n",
       "donor_diff_estate                                      0.28     0.75   \n",
       "teacher_donor_dummy                                    1.00     0.59   \n",
       "n_donor                                                0.59     1.00   \n",
       "exciting_project                                       0.11     0.20   \n",
       "\n",
       "                                        exciting_project  \n",
       "fulfillment_labor_materials                         0.15  \n",
       "total_price_including_optional_support             -0.00  \n",
       "students_reached                                   -0.00  \n",
       "count_proj_school                                   0.11  \n",
       "donor_diff_estate                                   0.17  \n",
       "teacher_donor_dummy                                 0.11  \n",
       "n_donor                                             0.20  \n",
       "exciting_project                                    1.00  "
      ]
     },
     "execution_count": 73,
     "metadata": {},
     "output_type": "execute_result"
    }
   ],
   "source": [
    "corrmat =df_projects[['fulfillment_labor_materials',\n",
    "       \n",
    "       'total_price_including_optional_support', 'students_reached',\n",
    "       'eligible_double_your_impact_match','count_proj_school',\n",
    "                     'donor_diff_estate','teacher_donor_dummy','n_donor','exciting_project',]].corr()\n",
    "\n",
    "corrmat"
   ]
  },
  {
   "cell_type": "code",
   "execution_count": 74,
   "metadata": {},
   "outputs": [
    {
     "data": {
      "text/plain": [
       "<AxesSubplot:>"
      ]
     },
     "execution_count": 74,
     "metadata": {},
     "output_type": "execute_result"
    },
    {
     "data": {
      "image/png": "[encoded data removed]",
      "text/plain": [
       "<Figure size 864x648 with 2 Axes>"
      ]
     },
     "metadata": {
      "needs_background": "light"
     },
     "output_type": "display_data"
    }
   ],
   "source": [
    "f, ax = plt.subplots(figsize=(12, 9))\n",
    "sns.heatmap(corrmat,cmap='RdYlGn',fmt='.2f',annot=True,)"
   ]
  },
  {
   "cell_type": "code",
   "execution_count": null,
   "metadata": {},
   "outputs": [],
   "source": []
  },
  {
   "cell_type": "markdown",
   "metadata": {},
   "source": [
    "## Prepare dataset for model"
   ]
  },
  {
   "cell_type": "code",
   "execution_count": null,
   "metadata": {},
   "outputs": [],
   "source": []
  },
  {
   "cell_type": "code",
   "execution_count": 75,
   "metadata": {},
   "outputs": [
    {
     "data": {
      "text/plain": [
       "619326"
      ]
     },
     "metadata": {},
     "output_type": "display_data"
    },
    {
     "data": {
      "text/plain": [
       "619326"
      ]
     },
     "execution_count": 75,
     "metadata": {},
     "output_type": "execute_result"
    }
   ],
   "source": [
    "df_model = df_projects.copy()\n",
    "\n",
    "display(len(df_model))\n",
    "\n",
    "\n",
    "df_model = df_model[['school_metro','teacher_teach_for_america','poverty_level',\n",
    "                       'flg_school_exciting','flg_teacher_exciting','count_proj_school',\n",
    "                       'count_proj_teacher','exciting_project']]\n",
    "len(df_model)"
   ]
  },
  {
   "cell_type": "code",
   "execution_count": 76,
   "metadata": {},
   "outputs": [
    {
     "data": {
      "text/plain": [
       "619326"
      ]
     },
     "execution_count": 76,
     "metadata": {},
     "output_type": "execute_result"
    }
   ],
   "source": [
    "group_don =df_donations[['donor_diff_estate','teacher_donor_dummy','n_donor']].reset_index().groupby(by='projectid').sum()\n",
    "df_model = df_model.join(group_don, how='left')\n",
    "len(df_model)"
   ]
  },
  {
   "cell_type": "code",
   "execution_count": null,
   "metadata": {},
   "outputs": [],
   "source": []
  },
  {
   "cell_type": "code",
   "execution_count": 78,
   "metadata": {},
   "outputs": [],
   "source": [
    "dummies=pd.get_dummies(df_projects[['school_metro','teacher_teach_for_america','poverty_level']])\n",
    "\n",
    "df_model= df_model.join(dummies,how='left')\n",
    "df_model.drop(columns=['school_metro','teacher_teach_for_america','poverty_level'], inplace=True)"
   ]
  },
  {
   "cell_type": "markdown",
   "metadata": {},
   "source": [
    "### Treating outliers"
   ]
  },
  {
   "cell_type": "code",
   "execution_count": 79,
   "metadata": {},
   "outputs": [
    {
     "data": {
      "text/plain": [
       "619326"
      ]
     },
     "metadata": {},
     "output_type": "display_data"
    },
    {
     "data": {
      "text/plain": [
       "525042"
      ]
     },
     "metadata": {},
     "output_type": "display_data"
    }
   ],
   "source": [
    "display(len(df_model))\n",
    "df_model.dropna(inplace=True)\n",
    "display(len(df_model))"
   ]
  },
  {
   "cell_type": "code",
   "execution_count": 80,
   "metadata": {},
   "outputs": [
    {
     "data": {
      "text/html": [
       "<div>\n",
       "<style scoped>\n",
       "    .dataframe tbody tr th:only-of-type {\n",
       "        vertical-align: middle;\n",
       "    }\n",
       "\n",
       "    .dataframe tbody tr th {\n",
       "        vertical-align: top;\n",
       "    }\n",
       "\n",
       "    .dataframe thead th {\n",
       "        text-align: right;\n",
       "    }\n",
       "</style>\n",
       "<table border=\"1\" class=\"dataframe\">\n",
       "  <thead>\n",
       "    <tr style=\"text-align: right;\">\n",
       "      <th></th>\n",
       "      <th>flg_school_exciting</th>\n",
       "      <th>flg_teacher_exciting</th>\n",
       "      <th>count_proj_school</th>\n",
       "      <th>count_proj_teacher</th>\n",
       "      <th>exciting_project</th>\n",
       "      <th>donor_diff_estate</th>\n",
       "      <th>teacher_donor_dummy</th>\n",
       "      <th>n_donor</th>\n",
       "      <th>school_metro_rural</th>\n",
       "      <th>school_metro_suburban</th>\n",
       "      <th>school_metro_urban</th>\n",
       "      <th>teacher_teach_for_america_f</th>\n",
       "      <th>teacher_teach_for_america_t</th>\n",
       "      <th>poverty_level_high poverty</th>\n",
       "      <th>poverty_level_highest poverty</th>\n",
       "      <th>poverty_level_low poverty</th>\n",
       "      <th>poverty_level_moderate poverty</th>\n",
       "    </tr>\n",
       "  </thead>\n",
       "  <tbody>\n",
       "    <tr>\n",
       "      <th>count</th>\n",
       "      <td>525042.00</td>\n",
       "      <td>525042.00</td>\n",
       "      <td>525042.00</td>\n",
       "      <td>525042.00</td>\n",
       "      <td>525042.00</td>\n",
       "      <td>525042.00</td>\n",
       "      <td>525042.00</td>\n",
       "      <td>525042.00</td>\n",
       "      <td>525042.00</td>\n",
       "      <td>525042.00</td>\n",
       "      <td>525042.00</td>\n",
       "      <td>525042.00</td>\n",
       "      <td>525042.00</td>\n",
       "      <td>525042.00</td>\n",
       "      <td>525042.00</td>\n",
       "      <td>525042.00</td>\n",
       "      <td>525042.00</td>\n",
       "    </tr>\n",
       "    <tr>\n",
       "      <th>mean</th>\n",
       "      <td>0.66</td>\n",
       "      <td>0.27</td>\n",
       "      <td>3.48</td>\n",
       "      <td>0.66</td>\n",
       "      <td>0.07</td>\n",
       "      <td>2.63</td>\n",
       "      <td>0.68</td>\n",
       "      <td>5.90</td>\n",
       "      <td>0.11</td>\n",
       "      <td>0.23</td>\n",
       "      <td>0.54</td>\n",
       "      <td>0.94</td>\n",
       "      <td>0.06</td>\n",
       "      <td>0.26</td>\n",
       "      <td>0.59</td>\n",
       "      <td>0.02</td>\n",
       "      <td>0.13</td>\n",
       "    </tr>\n",
       "    <tr>\n",
       "      <th>std</th>\n",
       "      <td>0.47</td>\n",
       "      <td>0.44</td>\n",
       "      <td>5.93</td>\n",
       "      <td>2.13</td>\n",
       "      <td>0.26</td>\n",
       "      <td>4.43</td>\n",
       "      <td>3.07</td>\n",
       "      <td>8.23</td>\n",
       "      <td>0.31</td>\n",
       "      <td>0.42</td>\n",
       "      <td>0.50</td>\n",
       "      <td>0.24</td>\n",
       "      <td>0.24</td>\n",
       "      <td>0.44</td>\n",
       "      <td>0.49</td>\n",
       "      <td>0.16</td>\n",
       "      <td>0.34</td>\n",
       "    </tr>\n",
       "    <tr>\n",
       "      <th>min</th>\n",
       "      <td>0.00</td>\n",
       "      <td>0.00</td>\n",
       "      <td>0.00</td>\n",
       "      <td>0.00</td>\n",
       "      <td>0.00</td>\n",
       "      <td>0.00</td>\n",
       "      <td>0.00</td>\n",
       "      <td>1.00</td>\n",
       "      <td>0.00</td>\n",
       "      <td>0.00</td>\n",
       "      <td>0.00</td>\n",
       "      <td>0.00</td>\n",
       "      <td>0.00</td>\n",
       "      <td>0.00</td>\n",
       "      <td>0.00</td>\n",
       "      <td>0.00</td>\n",
       "      <td>0.00</td>\n",
       "    </tr>\n",
       "    <tr>\n",
       "      <th>25%</th>\n",
       "      <td>0.00</td>\n",
       "      <td>0.00</td>\n",
       "      <td>0.00</td>\n",
       "      <td>0.00</td>\n",
       "      <td>0.00</td>\n",
       "      <td>1.00</td>\n",
       "      <td>0.00</td>\n",
       "      <td>2.00</td>\n",
       "      <td>0.00</td>\n",
       "      <td>0.00</td>\n",
       "      <td>0.00</td>\n",
       "      <td>1.00</td>\n",
       "      <td>0.00</td>\n",
       "      <td>0.00</td>\n",
       "      <td>0.00</td>\n",
       "      <td>0.00</td>\n",
       "      <td>0.00</td>\n",
       "    </tr>\n",
       "    <tr>\n",
       "      <th>50%</th>\n",
       "      <td>1.00</td>\n",
       "      <td>0.00</td>\n",
       "      <td>1.00</td>\n",
       "      <td>0.00</td>\n",
       "      <td>0.00</td>\n",
       "      <td>1.00</td>\n",
       "      <td>0.00</td>\n",
       "      <td>3.00</td>\n",
       "      <td>0.00</td>\n",
       "      <td>0.00</td>\n",
       "      <td>1.00</td>\n",
       "      <td>1.00</td>\n",
       "      <td>0.00</td>\n",
       "      <td>0.00</td>\n",
       "      <td>1.00</td>\n",
       "      <td>0.00</td>\n",
       "      <td>0.00</td>\n",
       "    </tr>\n",
       "    <tr>\n",
       "      <th>75%</th>\n",
       "      <td>1.00</td>\n",
       "      <td>1.00</td>\n",
       "      <td>4.00</td>\n",
       "      <td>1.00</td>\n",
       "      <td>0.00</td>\n",
       "      <td>3.00</td>\n",
       "      <td>1.00</td>\n",
       "      <td>7.00</td>\n",
       "      <td>0.00</td>\n",
       "      <td>0.00</td>\n",
       "      <td>1.00</td>\n",
       "      <td>1.00</td>\n",
       "      <td>0.00</td>\n",
       "      <td>1.00</td>\n",
       "      <td>1.00</td>\n",
       "      <td>0.00</td>\n",
       "      <td>0.00</td>\n",
       "    </tr>\n",
       "    <tr>\n",
       "      <th>max</th>\n",
       "      <td>1.00</td>\n",
       "      <td>1.00</td>\n",
       "      <td>52.00</td>\n",
       "      <td>41.00</td>\n",
       "      <td>1.00</td>\n",
       "      <td>392.00</td>\n",
       "      <td>390.00</td>\n",
       "      <td>607.00</td>\n",
       "      <td>1.00</td>\n",
       "      <td>1.00</td>\n",
       "      <td>1.00</td>\n",
       "      <td>1.00</td>\n",
       "      <td>1.00</td>\n",
       "      <td>1.00</td>\n",
       "      <td>1.00</td>\n",
       "      <td>1.00</td>\n",
       "      <td>1.00</td>\n",
       "    </tr>\n",
       "  </tbody>\n",
       "</table>\n",
       "</div>"
      ],
      "text/plain": [
       "       flg_school_exciting  flg_teacher_exciting  count_proj_school  \\\n",
       "count            525042.00             525042.00          525042.00   \n",
       "mean                  0.66                  0.27               3.48   \n",
       "std                   0.47                  0.44               5.93   \n",
       "min                   0.00                  0.00               0.00   \n",
       "25%                   0.00                  0.00               0.00   \n",
       "50%                   1.00                  0.00               1.00   \n",
       "75%                   1.00                  1.00               4.00   \n",
       "max                   1.00                  1.00              52.00   \n",
       "\n",
       "       count_proj_teacher  exciting_project  donor_diff_estate  \\\n",
       "count           525042.00         525042.00          525042.00   \n",
       "mean                 0.66              0.07               2.63   \n",
       "std                  2.13              0.26               4.43   \n",
       "min                  0.00              0.00               0.00   \n",
       "25%                  0.00              0.00               1.00   \n",
       "50%                  0.00              0.00               1.00   \n",
       "75%                  1.00              0.00               3.00   \n",
       "max                 41.00              1.00             392.00   \n",
       "\n",
       "       teacher_donor_dummy   n_donor  school_metro_rural  \\\n",
       "count            525042.00 525042.00           525042.00   \n",
       "mean                  0.68      5.90                0.11   \n",
       "std                   3.07      8.23                0.31   \n",
       "min                   0.00      1.00                0.00   \n",
       "25%                   0.00      2.00                0.00   \n",
       "50%                   0.00      3.00                0.00   \n",
       "75%                   1.00      7.00                0.00   \n",
       "max                 390.00    607.00                1.00   \n",
       "\n",
       "       school_metro_suburban  school_metro_urban  teacher_teach_for_america_f  \\\n",
       "count              525042.00           525042.00                    525042.00   \n",
       "mean                    0.23                0.54                         0.94   \n",
       "std                     0.42                0.50                         0.24   \n",
       "min                     0.00                0.00                         0.00   \n",
       "25%                     0.00                0.00                         1.00   \n",
       "50%                     0.00                1.00                         1.00   \n",
       "75%                     0.00                1.00                         1.00   \n",
       "max                     1.00                1.00                         1.00   \n",
       "\n",
       "       teacher_teach_for_america_t  poverty_level_high poverty  \\\n",
       "count                    525042.00                   525042.00   \n",
       "mean                          0.06                        0.26   \n",
       "std                           0.24                        0.44   \n",
       "min                           0.00                        0.00   \n",
       "25%                           0.00                        0.00   \n",
       "50%                           0.00                        0.00   \n",
       "75%                           0.00                        1.00   \n",
       "max                           1.00                        1.00   \n",
       "\n",
       "       poverty_level_highest poverty  poverty_level_low poverty  \\\n",
       "count                      525042.00                  525042.00   \n",
       "mean                            0.59                       0.02   \n",
       "std                             0.49                       0.16   \n",
       "min                             0.00                       0.00   \n",
       "25%                             0.00                       0.00   \n",
       "50%                             1.00                       0.00   \n",
       "75%                             1.00                       0.00   \n",
       "max                             1.00                       1.00   \n",
       "\n",
       "       poverty_level_moderate poverty  \n",
       "count                       525042.00  \n",
       "mean                             0.13  \n",
       "std                              0.34  \n",
       "min                              0.00  \n",
       "25%                              0.00  \n",
       "50%                              0.00  \n",
       "75%                              0.00  \n",
       "max                              1.00  "
      ]
     },
     "execution_count": 80,
     "metadata": {},
     "output_type": "execute_result"
    }
   ],
   "source": [
    "df_model.describe()"
   ]
  },
  {
   "cell_type": "markdown",
   "metadata": {},
   "source": [
    "### Replace outliers by median"
   ]
  },
  {
   "cell_type": "markdown",
   "metadata": {},
   "source": [
    "cols=['count_proj_school','count_proj_teacher']\n",
    "\n",
    "for col in cols:\n",
    "    col_treated = []\n",
    "    threshold = df_model[col].median() + 2 * df_model[col].std()\n",
    "    for r in df_model[col]:\n",
    "        if r > threshold or r is None:\n",
    "            col_treated.append(df_model[col].median())\n",
    "        else:\n",
    "            col_treated.append(r)\n",
    "    df_model[col]=col_treated\n",
    "\n"
   ]
  },
  {
   "cell_type": "code",
   "execution_count": 81,
   "metadata": {},
   "outputs": [],
   "source": [
    "X = df_model[['flg_teacher_exciting', 'count_proj_school',\n",
    "       'count_proj_teacher', 'exciting_project', 'donor_diff_estate',\n",
    "       'teacher_donor_dummy',\n",
    "       'school_metro_urban',\n",
    "       'teacher_teach_for_america_t', 'poverty_level_low poverty',\n",
    "       ]]\n",
    "y = df_model['flg_school_exciting']"
   ]
  },
  {
   "cell_type": "code",
   "execution_count": null,
   "metadata": {},
   "outputs": [],
   "source": []
  },
  {
   "cell_type": "code",
   "execution_count": null,
   "metadata": {},
   "outputs": [],
   "source": []
  },
  {
   "cell_type": "code",
   "execution_count": null,
   "metadata": {},
   "outputs": [],
   "source": []
  },
  {
   "cell_type": "code",
   "execution_count": null,
   "metadata": {},
   "outputs": [],
   "source": []
  },
  {
   "cell_type": "markdown",
   "metadata": {},
   "source": [
    "## Logistic Regression Model"
   ]
  },
  {
   "cell_type": "code",
   "execution_count": 82,
   "metadata": {},
   "outputs": [],
   "source": [
    "X_train, X_test, y_train, y_test = train_test_split(df_model.drop('exciting_project',axis=1), \n",
    "                                                    df_model['exciting_project'], test_size=0.30, \n",
    "                                                    random_state=101)"
   ]
  },
  {
   "cell_type": "code",
   "execution_count": null,
   "metadata": {},
   "outputs": [],
   "source": [
    "logmodel = LogisticRegression(max_iter=10000)\n",
    "logmodel.fit(X_train,y_train)"
   ]
  },
  {
   "cell_type": "code",
   "execution_count": null,
   "metadata": {},
   "outputs": [],
   "source": [
    "predictions = logmodel.predict(X_test)"
   ]
  },
  {
   "cell_type": "code",
   "execution_count": null,
   "metadata": {},
   "outputs": [],
   "source": [
    "print(classification_report(y_test,predictions))"
   ]
  },
  {
   "cell_type": "code",
   "execution_count": null,
   "metadata": {},
   "outputs": [],
   "source": []
  },
  {
   "cell_type": "code",
   "execution_count": null,
   "metadata": {},
   "outputs": [],
   "source": []
  },
  {
   "cell_type": "code",
   "execution_count": null,
   "metadata": {},
   "outputs": [],
   "source": []
  },
  {
   "cell_type": "code",
   "execution_count": null,
   "metadata": {},
   "outputs": [],
   "source": []
  },
  {
   "cell_type": "code",
   "execution_count": null,
   "metadata": {},
   "outputs": [],
   "source": []
  },
  {
   "cell_type": "code",
   "execution_count": null,
   "metadata": {},
   "outputs": [],
   "source": []
  }
 ],
 "metadata": {
  "kernelspec": {
   "display_name": "Python 3",
   "language": "python",
   "name": "python3"
  },
  "language_info": {
   "codemirror_mode": {
    "name": "ipython",
    "version": 3
   },
   "file_extension": ".py",
   "mimetype": "text/x-python",
   "name": "python",
   "nbconvert_exporter": "python",
   "pygments_lexer": "ipython3",
   "version": "3.7.7"
  }
 },
 "nbformat": 4,
 "nbformat_minor": 4
}
